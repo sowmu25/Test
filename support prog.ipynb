{
 "cells": [
  {
   "cell_type": "code",
   "execution_count": 3,
   "id": "fc0576eb",
   "metadata": {},
   "outputs": [
    {
     "name": "stdout",
     "output_type": "stream",
     "text": [
      "(10, 20)\n",
      "(40, 50)\n",
      "(70, 80)\n",
      "[[(10, 20, 500)], [(40, 50, 500)], [(70, 80, 500)]]\n"
     ]
    }
   ],
   "source": [
    "l=[(10, 20, 40), (40, 50, 60), (70, 80, 90)]\n",
    "pr=[]\n",
    "for t in l:\n",
    "    #print(t[:-1])\n",
    "    pr.append([list(t[:-1]) + (500)]) #removing the last element and adding 500\n",
    "print(pr)"
   ]
  },
  {
   "cell_type": "code",
   "execution_count": 12,
   "id": "14562c03",
   "metadata": {},
   "outputs": [
    {
     "name": "stdout",
     "output_type": "stream",
     "text": [
      "[10, 20, 500, 40, 50, 500, 70, 80, 500]\n"
     ]
    }
   ],
   "source": [
    "l=[(10, 20, 40), (40, 50, 60), (70, 80, 90)]\n",
    "k=[]\n",
    "for t in l:\n",
    "    for j in t[:-1]:\n",
    "        k.append(j)\n",
    "    k.append(500)\n",
    "print(k)"
   ]
  },
  {
   "cell_type": "code",
   "execution_count": 19,
   "id": "73f63bb0",
   "metadata": {},
   "outputs": [],
   "source": [
    "def test4():\n",
    "    a=[]\n",
    "    a=(input(\"enter the list\"))\n",
    "    a.sort()\n",
    "    print(((set(a))))\n",
    "   \n",
    "   "
   ]
  },
  {
   "cell_type": "code",
   "execution_count": 20,
   "id": "f4c459f3",
   "metadata": {},
   "outputs": [
    {
     "name": "stdout",
     "output_type": "stream",
     "text": [
      "enter the list1 2 3\n"
     ]
    },
    {
     "ename": "AttributeError",
     "evalue": "'str' object has no attribute 'sort'",
     "output_type": "error",
     "traceback": [
      "\u001b[1;31m---------------------------------------------------------------------------\u001b[0m",
      "\u001b[1;31mAttributeError\u001b[0m                            Traceback (most recent call last)",
      "Input \u001b[1;32mIn [20]\u001b[0m, in \u001b[0;36m<cell line: 1>\u001b[1;34m()\u001b[0m\n\u001b[1;32m----> 1\u001b[0m \u001b[43mtest4\u001b[49m\u001b[43m(\u001b[49m\u001b[43m)\u001b[49m\n",
      "Input \u001b[1;32mIn [19]\u001b[0m, in \u001b[0;36mtest4\u001b[1;34m()\u001b[0m\n\u001b[0;32m      2\u001b[0m a\u001b[38;5;241m=\u001b[39m[]\n\u001b[0;32m      3\u001b[0m a\u001b[38;5;241m=\u001b[39m(\u001b[38;5;28minput\u001b[39m(\u001b[38;5;124m\"\u001b[39m\u001b[38;5;124menter the list\u001b[39m\u001b[38;5;124m\"\u001b[39m))\n\u001b[1;32m----> 4\u001b[0m \u001b[43ma\u001b[49m\u001b[38;5;241;43m.\u001b[39;49m\u001b[43msort\u001b[49m()\n\u001b[0;32m      5\u001b[0m \u001b[38;5;28mprint\u001b[39m(((\u001b[38;5;28mset\u001b[39m(a))))\n",
      "\u001b[1;31mAttributeError\u001b[0m: 'str' object has no attribute 'sort'"
     ]
    }
   ],
   "source": [
    "test4()"
   ]
  },
  {
   "cell_type": "code",
   "execution_count": 48,
   "id": "50e19921",
   "metadata": {},
   "outputs": [
    {
     "name": "stdout",
     "output_type": "stream",
     "text": [
      "enter the list1,2,3,1,2,4\n",
      "['1', '2', '3', '4']\n"
     ]
    }
   ],
   "source": [
    "def convert():\n",
    "    my_set = ((input(\"enter the list\")))\n",
    "    b= my_set.split(\",\")\n",
    "    b=list(b)\n",
    "    sa=set(b)\n",
    "    return(sorted(sa))\n",
    "  \n",
    "    \n",
    "print(convert())"
   ]
  },
  {
   "cell_type": "code",
   "execution_count": 80,
   "id": "eeb6df91",
   "metadata": {},
   "outputs": [
    {
     "ename": "SyntaxError",
     "evalue": "can't use starred expression here (2757463587.py, line 5)",
     "output_type": "error",
     "traceback": [
      "\u001b[1;36m  Input \u001b[1;32mIn [80]\u001b[1;36m\u001b[0m\n\u001b[1;33m    d= (*set(c))\u001b[0m\n\u001b[1;37m        ^\u001b[0m\n\u001b[1;31mSyntaxError\u001b[0m\u001b[1;31m:\u001b[0m can't use starred expression here\n"
     ]
    }
   ],
   "source": [
    "def test4():\n",
    "    a=(input(\"enter the list\"))\n",
    "    b= a.split(\",\")\n",
    "    c=b.sort()\n",
    "    d= set(c)\n",
    "\n",
    "\n",
    "    print(d)"
   ]
  },
  {
   "cell_type": "code",
   "execution_count": null,
   "id": "6481266b",
   "metadata": {},
   "outputs": [],
   "source": []
  },
  {
   "cell_type": "code",
   "execution_count": 90,
   "id": "e55899bb",
   "metadata": {
    "scrolled": true
   },
   "outputs": [
    {
     "name": "stdout",
     "output_type": "stream",
     "text": [
      "enter the list1,22,111,1,2,33,2\n",
      "['1', '2', '22', '33', '111']\n"
     ]
    }
   ],
   "source": [
    "\n",
    "def convert():\n",
    "    my_set = (input(\"enter the list\"))\n",
    "    b= (my_set.split(\",\"))\n",
    "    b=set(b)\n",
    "    return sorted(b,key=int)\n",
    "\n",
    "print(convert())"
   ]
  },
  {
   "cell_type": "code",
   "execution_count": null,
   "id": "a908e265",
   "metadata": {},
   "outputs": [],
   "source": []
  },
  {
   "cell_type": "code",
   "execution_count": 77,
   "id": "975ed0cb",
   "metadata": {},
   "outputs": [
    {
     "name": "stdout",
     "output_type": "stream",
     "text": [
      "2\n",
      "2\n"
     ]
    }
   ],
   "source": [
    "#find the number of keys\n",
    "l=[2,{'ss':3,'aa':3},2,{'ss':3,'aa':3}]\n",
    "for i in l:\n",
    "    if type(i) == dict:\n",
    "        print(len(i.keys()))"
   ]
  },
  {
   "cell_type": "code",
   "execution_count": 1,
   "id": "c92a30e3",
   "metadata": {},
   "outputs": [],
   "source": [
    "import pandas as pd"
   ]
  },
  {
   "cell_type": "code",
   "execution_count": 27,
   "id": "f3ec9cc2",
   "metadata": {},
   "outputs": [
    {
     "ename": "TypeError",
     "evalue": "read_excel() got an unexpected keyword argument 'sheetname'",
     "output_type": "error",
     "traceback": [
      "\u001b[1;31m---------------------------------------------------------------------------\u001b[0m",
      "\u001b[1;31mTypeError\u001b[0m                                 Traceback (most recent call last)",
      "Input \u001b[1;32mIn [27]\u001b[0m, in \u001b[0;36m<cell line: 1>\u001b[1;34m()\u001b[0m\n\u001b[1;32m----> 1\u001b[0m data\u001b[38;5;241m=\u001b[39m\u001b[43mpd\u001b[49m\u001b[38;5;241;43m.\u001b[39;49m\u001b[43mread_excel\u001b[49m\u001b[43m(\u001b[49m\u001b[38;5;124;43m\"\u001b[39;49m\u001b[38;5;124;43mss.xlxs\u001b[39;49m\u001b[38;5;124;43m\"\u001b[39;49m\u001b[43m,\u001b[49m\u001b[43msheetname\u001b[49m\u001b[38;5;241;43m=\u001b[39;49m\u001b[38;5;124;43m'\u001b[39;49m\u001b[38;5;124;43mSheet1\u001b[39;49m\u001b[38;5;124;43m'\u001b[39;49m\u001b[43m)\u001b[49m\n",
      "File \u001b[1;32m~\\Anaconda3\\lib\\site-packages\\pandas\\util\\_decorators.py:311\u001b[0m, in \u001b[0;36mdeprecate_nonkeyword_arguments.<locals>.decorate.<locals>.wrapper\u001b[1;34m(*args, **kwargs)\u001b[0m\n\u001b[0;32m    305\u001b[0m \u001b[38;5;28;01mif\u001b[39;00m \u001b[38;5;28mlen\u001b[39m(args) \u001b[38;5;241m>\u001b[39m num_allow_args:\n\u001b[0;32m    306\u001b[0m     warnings\u001b[38;5;241m.\u001b[39mwarn(\n\u001b[0;32m    307\u001b[0m         msg\u001b[38;5;241m.\u001b[39mformat(arguments\u001b[38;5;241m=\u001b[39marguments),\n\u001b[0;32m    308\u001b[0m         \u001b[38;5;167;01mFutureWarning\u001b[39;00m,\n\u001b[0;32m    309\u001b[0m         stacklevel\u001b[38;5;241m=\u001b[39mstacklevel,\n\u001b[0;32m    310\u001b[0m     )\n\u001b[1;32m--> 311\u001b[0m \u001b[38;5;28;01mreturn\u001b[39;00m func(\u001b[38;5;241m*\u001b[39margs, \u001b[38;5;241m*\u001b[39m\u001b[38;5;241m*\u001b[39mkwargs)\n",
      "\u001b[1;31mTypeError\u001b[0m: read_excel() got an unexpected keyword argument 'sheetname'"
     ]
    }
   ],
   "source": [
    "data=pd.read_excel(\"ss.xlxs\",sheetname='Sheet1')"
   ]
  },
  {
   "cell_type": "code",
   "execution_count": 15,
   "id": "0fd68f54",
   "metadata": {},
   "outputs": [],
   "source": [
    "data=data.head(1000)"
   ]
  },
  {
   "cell_type": "code",
   "execution_count": 20,
   "id": "8413eb03",
   "metadata": {},
   "outputs": [
    {
     "name": "stdout",
     "output_type": "stream",
     "text": [
      "<class 'pandas.core.frame.DataFrame'>\n",
      "RangeIndex: 2075259 entries, 0 to 2075258\n",
      "Data columns (total 9 columns):\n",
      " #   Column                 Dtype  \n",
      "---  ------                 -----  \n",
      " 0   Date                   object \n",
      " 1   Time                   object \n",
      " 2   Global_active_power    object \n",
      " 3   Global_reactive_power  object \n",
      " 4   Voltage                object \n",
      " 5   Global_intensity       object \n",
      " 6   Sub_metering_1         object \n",
      " 7   Sub_metering_2         object \n",
      " 8   Sub_metering_3         float64\n",
      "dtypes: float64(1), object(8)\n",
      "memory usage: 142.5+ MB\n"
     ]
    }
   ],
   "source": [
    "data.info()"
   ]
  },
  {
   "cell_type": "code",
   "execution_count": 17,
   "id": "2758f08b",
   "metadata": {},
   "outputs": [
    {
     "data": {
      "text/plain": [
       "Index(['Date', 'Time', 'Global_active_power', 'Global_reactive_power',\n",
       "       'Voltage', 'Global_intensity', 'Sub_metering_1', 'Sub_metering_2',\n",
       "       'Sub_metering_3'],\n",
       "      dtype='object')"
      ]
     },
     "execution_count": 17,
     "metadata": {},
     "output_type": "execute_result"
    }
   ],
   "source": [
    "data.columns"
   ]
  },
  {
   "cell_type": "code",
   "execution_count": 24,
   "id": "0d5ed345",
   "metadata": {},
   "outputs": [
    {
     "ename": "ValueError",
     "evalue": "could not convert string to float: '?'",
     "output_type": "error",
     "traceback": [
      "\u001b[1;31m---------------------------------------------------------------------------\u001b[0m",
      "\u001b[1;31mValueError\u001b[0m                                Traceback (most recent call last)",
      "Input \u001b[1;32mIn [24]\u001b[0m, in \u001b[0;36m<cell line: 1>\u001b[1;34m()\u001b[0m\n\u001b[1;32m----> 1\u001b[0m data[\u001b[38;5;124m'\u001b[39m\u001b[38;5;124msample\u001b[39m\u001b[38;5;124m'\u001b[39m]\u001b[38;5;241m=\u001b[39m\u001b[43mdata\u001b[49m\u001b[43m[\u001b[49m\u001b[38;5;124;43m'\u001b[39;49m\u001b[38;5;124;43mGlobal_reactive_power\u001b[39;49m\u001b[38;5;124;43m'\u001b[39;49m\u001b[43m]\u001b[49m\u001b[38;5;241;43m.\u001b[39;49m\u001b[43mastype\u001b[49m\u001b[43m(\u001b[49m\u001b[38;5;124;43m'\u001b[39;49m\u001b[38;5;124;43mfloat64\u001b[39;49m\u001b[38;5;124;43m'\u001b[39;49m\u001b[43m)\u001b[49m\n",
      "File \u001b[1;32m~\\Anaconda3\\lib\\site-packages\\pandas\\core\\generic.py:5912\u001b[0m, in \u001b[0;36mNDFrame.astype\u001b[1;34m(self, dtype, copy, errors)\u001b[0m\n\u001b[0;32m   5905\u001b[0m     results \u001b[38;5;241m=\u001b[39m [\n\u001b[0;32m   5906\u001b[0m         \u001b[38;5;28mself\u001b[39m\u001b[38;5;241m.\u001b[39miloc[:, i]\u001b[38;5;241m.\u001b[39mastype(dtype, copy\u001b[38;5;241m=\u001b[39mcopy)\n\u001b[0;32m   5907\u001b[0m         \u001b[38;5;28;01mfor\u001b[39;00m i \u001b[38;5;129;01min\u001b[39;00m \u001b[38;5;28mrange\u001b[39m(\u001b[38;5;28mlen\u001b[39m(\u001b[38;5;28mself\u001b[39m\u001b[38;5;241m.\u001b[39mcolumns))\n\u001b[0;32m   5908\u001b[0m     ]\n\u001b[0;32m   5910\u001b[0m \u001b[38;5;28;01melse\u001b[39;00m:\n\u001b[0;32m   5911\u001b[0m     \u001b[38;5;66;03m# else, only a single dtype is given\u001b[39;00m\n\u001b[1;32m-> 5912\u001b[0m     new_data \u001b[38;5;241m=\u001b[39m \u001b[38;5;28;43mself\u001b[39;49m\u001b[38;5;241;43m.\u001b[39;49m\u001b[43m_mgr\u001b[49m\u001b[38;5;241;43m.\u001b[39;49m\u001b[43mastype\u001b[49m\u001b[43m(\u001b[49m\u001b[43mdtype\u001b[49m\u001b[38;5;241;43m=\u001b[39;49m\u001b[43mdtype\u001b[49m\u001b[43m,\u001b[49m\u001b[43m \u001b[49m\u001b[43mcopy\u001b[49m\u001b[38;5;241;43m=\u001b[39;49m\u001b[43mcopy\u001b[49m\u001b[43m,\u001b[49m\u001b[43m \u001b[49m\u001b[43merrors\u001b[49m\u001b[38;5;241;43m=\u001b[39;49m\u001b[43merrors\u001b[49m\u001b[43m)\u001b[49m\n\u001b[0;32m   5913\u001b[0m     \u001b[38;5;28;01mreturn\u001b[39;00m \u001b[38;5;28mself\u001b[39m\u001b[38;5;241m.\u001b[39m_constructor(new_data)\u001b[38;5;241m.\u001b[39m__finalize__(\u001b[38;5;28mself\u001b[39m, method\u001b[38;5;241m=\u001b[39m\u001b[38;5;124m\"\u001b[39m\u001b[38;5;124mastype\u001b[39m\u001b[38;5;124m\"\u001b[39m)\n\u001b[0;32m   5915\u001b[0m \u001b[38;5;66;03m# GH 33113: handle empty frame or series\u001b[39;00m\n",
      "File \u001b[1;32m~\\Anaconda3\\lib\\site-packages\\pandas\\core\\internals\\managers.py:419\u001b[0m, in \u001b[0;36mBaseBlockManager.astype\u001b[1;34m(self, dtype, copy, errors)\u001b[0m\n\u001b[0;32m    418\u001b[0m \u001b[38;5;28;01mdef\u001b[39;00m \u001b[38;5;21mastype\u001b[39m(\u001b[38;5;28mself\u001b[39m: T, dtype, copy: \u001b[38;5;28mbool\u001b[39m \u001b[38;5;241m=\u001b[39m \u001b[38;5;28;01mFalse\u001b[39;00m, errors: \u001b[38;5;28mstr\u001b[39m \u001b[38;5;241m=\u001b[39m \u001b[38;5;124m\"\u001b[39m\u001b[38;5;124mraise\u001b[39m\u001b[38;5;124m\"\u001b[39m) \u001b[38;5;241m-\u001b[39m\u001b[38;5;241m>\u001b[39m T:\n\u001b[1;32m--> 419\u001b[0m     \u001b[38;5;28;01mreturn\u001b[39;00m \u001b[38;5;28;43mself\u001b[39;49m\u001b[38;5;241;43m.\u001b[39;49m\u001b[43mapply\u001b[49m\u001b[43m(\u001b[49m\u001b[38;5;124;43m\"\u001b[39;49m\u001b[38;5;124;43mastype\u001b[39;49m\u001b[38;5;124;43m\"\u001b[39;49m\u001b[43m,\u001b[49m\u001b[43m \u001b[49m\u001b[43mdtype\u001b[49m\u001b[38;5;241;43m=\u001b[39;49m\u001b[43mdtype\u001b[49m\u001b[43m,\u001b[49m\u001b[43m \u001b[49m\u001b[43mcopy\u001b[49m\u001b[38;5;241;43m=\u001b[39;49m\u001b[43mcopy\u001b[49m\u001b[43m,\u001b[49m\u001b[43m \u001b[49m\u001b[43merrors\u001b[49m\u001b[38;5;241;43m=\u001b[39;49m\u001b[43merrors\u001b[49m\u001b[43m)\u001b[49m\n",
      "File \u001b[1;32m~\\Anaconda3\\lib\\site-packages\\pandas\\core\\internals\\managers.py:304\u001b[0m, in \u001b[0;36mBaseBlockManager.apply\u001b[1;34m(self, f, align_keys, ignore_failures, **kwargs)\u001b[0m\n\u001b[0;32m    302\u001b[0m         applied \u001b[38;5;241m=\u001b[39m b\u001b[38;5;241m.\u001b[39mapply(f, \u001b[38;5;241m*\u001b[39m\u001b[38;5;241m*\u001b[39mkwargs)\n\u001b[0;32m    303\u001b[0m     \u001b[38;5;28;01melse\u001b[39;00m:\n\u001b[1;32m--> 304\u001b[0m         applied \u001b[38;5;241m=\u001b[39m \u001b[38;5;28mgetattr\u001b[39m(b, f)(\u001b[38;5;241m*\u001b[39m\u001b[38;5;241m*\u001b[39mkwargs)\n\u001b[0;32m    305\u001b[0m \u001b[38;5;28;01mexcept\u001b[39;00m (\u001b[38;5;167;01mTypeError\u001b[39;00m, \u001b[38;5;167;01mNotImplementedError\u001b[39;00m):\n\u001b[0;32m    306\u001b[0m     \u001b[38;5;28;01mif\u001b[39;00m \u001b[38;5;129;01mnot\u001b[39;00m ignore_failures:\n",
      "File \u001b[1;32m~\\Anaconda3\\lib\\site-packages\\pandas\\core\\internals\\blocks.py:580\u001b[0m, in \u001b[0;36mBlock.astype\u001b[1;34m(self, dtype, copy, errors)\u001b[0m\n\u001b[0;32m    562\u001b[0m \u001b[38;5;124;03m\"\"\"\u001b[39;00m\n\u001b[0;32m    563\u001b[0m \u001b[38;5;124;03mCoerce to the new dtype.\u001b[39;00m\n\u001b[0;32m    564\u001b[0m \n\u001b[1;32m   (...)\u001b[0m\n\u001b[0;32m    576\u001b[0m \u001b[38;5;124;03mBlock\u001b[39;00m\n\u001b[0;32m    577\u001b[0m \u001b[38;5;124;03m\"\"\"\u001b[39;00m\n\u001b[0;32m    578\u001b[0m values \u001b[38;5;241m=\u001b[39m \u001b[38;5;28mself\u001b[39m\u001b[38;5;241m.\u001b[39mvalues\n\u001b[1;32m--> 580\u001b[0m new_values \u001b[38;5;241m=\u001b[39m \u001b[43mastype_array_safe\u001b[49m\u001b[43m(\u001b[49m\u001b[43mvalues\u001b[49m\u001b[43m,\u001b[49m\u001b[43m \u001b[49m\u001b[43mdtype\u001b[49m\u001b[43m,\u001b[49m\u001b[43m \u001b[49m\u001b[43mcopy\u001b[49m\u001b[38;5;241;43m=\u001b[39;49m\u001b[43mcopy\u001b[49m\u001b[43m,\u001b[49m\u001b[43m \u001b[49m\u001b[43merrors\u001b[49m\u001b[38;5;241;43m=\u001b[39;49m\u001b[43merrors\u001b[49m\u001b[43m)\u001b[49m\n\u001b[0;32m    582\u001b[0m new_values \u001b[38;5;241m=\u001b[39m maybe_coerce_values(new_values)\n\u001b[0;32m    583\u001b[0m newb \u001b[38;5;241m=\u001b[39m \u001b[38;5;28mself\u001b[39m\u001b[38;5;241m.\u001b[39mmake_block(new_values)\n",
      "File \u001b[1;32m~\\Anaconda3\\lib\\site-packages\\pandas\\core\\dtypes\\cast.py:1292\u001b[0m, in \u001b[0;36mastype_array_safe\u001b[1;34m(values, dtype, copy, errors)\u001b[0m\n\u001b[0;32m   1289\u001b[0m     dtype \u001b[38;5;241m=\u001b[39m dtype\u001b[38;5;241m.\u001b[39mnumpy_dtype\n\u001b[0;32m   1291\u001b[0m \u001b[38;5;28;01mtry\u001b[39;00m:\n\u001b[1;32m-> 1292\u001b[0m     new_values \u001b[38;5;241m=\u001b[39m \u001b[43mastype_array\u001b[49m\u001b[43m(\u001b[49m\u001b[43mvalues\u001b[49m\u001b[43m,\u001b[49m\u001b[43m \u001b[49m\u001b[43mdtype\u001b[49m\u001b[43m,\u001b[49m\u001b[43m \u001b[49m\u001b[43mcopy\u001b[49m\u001b[38;5;241;43m=\u001b[39;49m\u001b[43mcopy\u001b[49m\u001b[43m)\u001b[49m\n\u001b[0;32m   1293\u001b[0m \u001b[38;5;28;01mexcept\u001b[39;00m (\u001b[38;5;167;01mValueError\u001b[39;00m, \u001b[38;5;167;01mTypeError\u001b[39;00m):\n\u001b[0;32m   1294\u001b[0m     \u001b[38;5;66;03m# e.g. astype_nansafe can fail on object-dtype of strings\u001b[39;00m\n\u001b[0;32m   1295\u001b[0m     \u001b[38;5;66;03m#  trying to convert to float\u001b[39;00m\n\u001b[0;32m   1296\u001b[0m     \u001b[38;5;28;01mif\u001b[39;00m errors \u001b[38;5;241m==\u001b[39m \u001b[38;5;124m\"\u001b[39m\u001b[38;5;124mignore\u001b[39m\u001b[38;5;124m\"\u001b[39m:\n",
      "File \u001b[1;32m~\\Anaconda3\\lib\\site-packages\\pandas\\core\\dtypes\\cast.py:1237\u001b[0m, in \u001b[0;36mastype_array\u001b[1;34m(values, dtype, copy)\u001b[0m\n\u001b[0;32m   1234\u001b[0m     values \u001b[38;5;241m=\u001b[39m values\u001b[38;5;241m.\u001b[39mastype(dtype, copy\u001b[38;5;241m=\u001b[39mcopy)\n\u001b[0;32m   1236\u001b[0m \u001b[38;5;28;01melse\u001b[39;00m:\n\u001b[1;32m-> 1237\u001b[0m     values \u001b[38;5;241m=\u001b[39m \u001b[43mastype_nansafe\u001b[49m\u001b[43m(\u001b[49m\u001b[43mvalues\u001b[49m\u001b[43m,\u001b[49m\u001b[43m \u001b[49m\u001b[43mdtype\u001b[49m\u001b[43m,\u001b[49m\u001b[43m \u001b[49m\u001b[43mcopy\u001b[49m\u001b[38;5;241;43m=\u001b[39;49m\u001b[43mcopy\u001b[49m\u001b[43m)\u001b[49m\n\u001b[0;32m   1239\u001b[0m \u001b[38;5;66;03m# in pandas we don't store numpy str dtypes, so convert to object\u001b[39;00m\n\u001b[0;32m   1240\u001b[0m \u001b[38;5;28;01mif\u001b[39;00m \u001b[38;5;28misinstance\u001b[39m(dtype, np\u001b[38;5;241m.\u001b[39mdtype) \u001b[38;5;129;01mand\u001b[39;00m \u001b[38;5;28missubclass\u001b[39m(values\u001b[38;5;241m.\u001b[39mdtype\u001b[38;5;241m.\u001b[39mtype, \u001b[38;5;28mstr\u001b[39m):\n",
      "File \u001b[1;32m~\\Anaconda3\\lib\\site-packages\\pandas\\core\\dtypes\\cast.py:1181\u001b[0m, in \u001b[0;36mastype_nansafe\u001b[1;34m(arr, dtype, copy, skipna)\u001b[0m\n\u001b[0;32m   1177\u001b[0m     \u001b[38;5;28;01mraise\u001b[39;00m \u001b[38;5;167;01mValueError\u001b[39;00m(msg)\n\u001b[0;32m   1179\u001b[0m \u001b[38;5;28;01mif\u001b[39;00m copy \u001b[38;5;129;01mor\u001b[39;00m is_object_dtype(arr\u001b[38;5;241m.\u001b[39mdtype) \u001b[38;5;129;01mor\u001b[39;00m is_object_dtype(dtype):\n\u001b[0;32m   1180\u001b[0m     \u001b[38;5;66;03m# Explicit copy, or required since NumPy can't view from / to object.\u001b[39;00m\n\u001b[1;32m-> 1181\u001b[0m     \u001b[38;5;28;01mreturn\u001b[39;00m \u001b[43marr\u001b[49m\u001b[38;5;241;43m.\u001b[39;49m\u001b[43mastype\u001b[49m\u001b[43m(\u001b[49m\u001b[43mdtype\u001b[49m\u001b[43m,\u001b[49m\u001b[43m \u001b[49m\u001b[43mcopy\u001b[49m\u001b[38;5;241;43m=\u001b[39;49m\u001b[38;5;28;43;01mTrue\u001b[39;49;00m\u001b[43m)\u001b[49m\n\u001b[0;32m   1183\u001b[0m \u001b[38;5;28;01mreturn\u001b[39;00m arr\u001b[38;5;241m.\u001b[39mastype(dtype, copy\u001b[38;5;241m=\u001b[39mcopy)\n",
      "\u001b[1;31mValueError\u001b[0m: could not convert string to float: '?'"
     ]
    }
   ],
   "source": [
    "data['sample']=data['Global_reactive_power'].astype('float64')"
   ]
  },
  {
   "cell_type": "code",
   "execution_count": 22,
   "id": "7fc9c4bb",
   "metadata": {},
   "outputs": [
    {
     "name": "stdout",
     "output_type": "stream",
     "text": [
      "<class 'pandas.core.frame.DataFrame'>\n",
      "RangeIndex: 2075259 entries, 0 to 2075258\n",
      "Data columns (total 9 columns):\n",
      " #   Column                 Dtype  \n",
      "---  ------                 -----  \n",
      " 0   Date                   object \n",
      " 1   Time                   object \n",
      " 2   Global_active_power    object \n",
      " 3   Global_reactive_power  object \n",
      " 4   Voltage                object \n",
      " 5   Global_intensity       object \n",
      " 6   Sub_metering_1         object \n",
      " 7   Sub_metering_2         object \n",
      " 8   Sub_metering_3         float64\n",
      "dtypes: float64(1), object(8)\n",
      "memory usage: 142.5+ MB\n"
     ]
    }
   ],
   "source": [
    "data.info()"
   ]
  },
  {
   "cell_type": "code",
   "execution_count": 23,
   "id": "ed68d13c",
   "metadata": {},
   "outputs": [
    {
     "data": {
      "text/plain": [
       "Date                         0\n",
       "Time                         0\n",
       "Global_active_power          0\n",
       "Global_reactive_power        0\n",
       "Voltage                      0\n",
       "Global_intensity             0\n",
       "Sub_metering_1               0\n",
       "Sub_metering_2               0\n",
       "Sub_metering_3           25979\n",
       "dtype: int64"
      ]
     },
     "execution_count": 23,
     "metadata": {},
     "output_type": "execute_result"
    }
   ],
   "source": [
    "data.isna().sum()"
   ]
  },
  {
   "cell_type": "code",
   "execution_count": 31,
   "id": "1d272786",
   "metadata": {},
   "outputs": [
    {
     "name": "stdout",
     "output_type": "stream",
     "text": [
      "True\n"
     ]
    }
   ],
   "source": [
    "A = 2.0\n",
    "B = float(4/2)\n",
    "print(A==B)"
   ]
  },
  {
   "cell_type": "code",
   "execution_count": 30,
   "id": "6e5eb648",
   "metadata": {},
   "outputs": [
    {
     "name": "stdout",
     "output_type": "stream",
     "text": [
      "2.0\n"
     ]
    }
   ],
   "source": [
    "print(B)"
   ]
  },
  {
   "cell_type": "code",
   "execution_count": 2,
   "id": "56470fe4",
   "metadata": {},
   "outputs": [
    {
     "name": "stdout",
     "output_type": "stream",
     "text": [
      "29\n"
     ]
    }
   ],
   "source": [
    "my_str = 'Peter Piper Picked A Peck Of Pickled Peppers.'\n",
    "substring = 'Pickl'\n",
    "\n",
    "\n",
    "index = my_str.find(substring)\n",
    "print(index)"
   ]
  },
  {
   "cell_type": "code",
   "execution_count": 3,
   "id": "8493322e",
   "metadata": {},
   "outputs": [],
   "source": [
    "import matplotlib.pyplot as plt"
   ]
  },
  {
   "cell_type": "code",
   "execution_count": null,
   "id": "55b842db",
   "metadata": {},
   "outputs": [],
   "source": [
    "plt.scatter()"
   ]
  },
  {
   "cell_type": "code",
   "execution_count": 10,
   "id": "c0c06488",
   "metadata": {},
   "outputs": [
    {
     "data": {
      "text/plain": [
       "(3, ['x', 3], {'a': 1, 'b': 'y'})"
      ]
     },
     "execution_count": 10,
     "metadata": {},
     "output_type": "execute_result"
    }
   ],
   "source": [
    "def func(a, b, c): \n",
    "    a = 2; \n",
    "    b[0] = 'x'; \n",
    "    c['b'] = 'y' \n",
    "l=3; \n",
    "m=[2,3];\n",
    "n={'a':1}\n",
    "func(l, m, n)\n",
    "l, m, n"
   ]
  },
  {
   "cell_type": "code",
   "execution_count": 3,
   "id": "a7b4ee71",
   "metadata": {},
   "outputs": [
    {
     "name": "stdout",
     "output_type": "stream",
     "text": [
      "no: of items you wanna buy: 2\n",
      "things you wanna buy: watch\n",
      "things you wanna buy: laptop\n",
      "55000\n"
     ]
    }
   ],
   "source": [
    "amazon_website = [(\"watch\", 5000), (\"phone\", 10000), (\"laptop\", 50000), (\"shirt\", 1000)]\n",
    "number_of_item=int(input(\"no: of items you wanna buy: \"))\n",
    "total_cost=0\n",
    "x=0\n",
    "while x<number_of_item: \n",
    "    product=input(\"things you wanna buy: \") \n",
    "    x=x+1 \n",
    "    for i in amazon_website:\n",
    "        if i[0]==product: \n",
    "            total_cost=total_cost+i[1] \n",
    "    if total_cost==0:  \n",
    "        print(f'{product} is out of stock') \n",
    "print(total_cost)"
   ]
  },
  {
   "cell_type": "code",
   "execution_count": null,
   "id": "98f55f5b",
   "metadata": {},
   "outputs": [],
   "source": [
    "amazon_website = [(\"watch\", 5000), (\"phone\", 10000), (\"laptop\", 50000), (\"shirt\", 1000)]\n",
    "number_of_item=int(input(\"no: of items you wanna buy: \"))\n",
    "total_cost=0\n",
    "x=0\n",
    "while x<number_of_item: \n",
    "    product=input(\"things you wanna buy: \") \n",
    "    x=x+1 \n",
    "for i in amazon_website:\n",
    "    if i[0]==product: \n",
    "            print(product)\n",
    "            total_cost=total_cost+i[1] \n",
    "    else:\n",
    "            print(f'{product} is out of stock') \n",
    "print(total_cost)"
   ]
  },
  {
   "cell_type": "code",
   "execution_count": 27,
   "id": "e96ea3ab",
   "metadata": {},
   "outputs": [
    {
     "name": "stdout",
     "output_type": "stream",
     "text": [
      "33.33\n",
      "since you have scored: 33.33,you have passed the exam!\n"
     ]
    }
   ],
   "source": [
    "your_score=33.33\n",
    "print(your_score)\n",
    "if your_score>33.3:\n",
    "    print(f\"since you have scored: {your_score},you have passed the exam!\")\n",
    "else:\n",
    "    print(\"Dad: You shuold have taken things seriously!\")"
   ]
  },
  {
   "cell_type": "code",
   "execution_count": 31,
   "id": "572253c1",
   "metadata": {},
   "outputs": [
    {
     "name": "stdout",
     "output_type": "stream",
     "text": [
      "33.33\n",
      "since you have scored: 33.33,you have passed the exam!\n"
     ]
    }
   ],
   "source": [
    "your_score=33.33\n",
    "print(your_score)\n",
    "if your_score>33.3:\n",
    "    print(f\"since you have scored: {your_score},you have passed the exam!\")\n",
    "else:\n",
    "    print(\"Dad: You should have taken things seriously!\")"
   ]
  },
  {
   "cell_type": "code",
   "execution_count": 34,
   "id": "c8d2d1f8",
   "metadata": {},
   "outputs": [
    {
     "name": "stdout",
     "output_type": "stream",
     "text": [
      "Dad: You should have taken things seriously!\n"
     ]
    }
   ],
   "source": [
    "your_score = 33.33\n",
    "passing_marks = 33.33\n",
    "if your_score > 33.33: # strict case\n",
    "    print(f\"Since you have scored: {your_score}, you have passed the exams!\")\n",
    "else:\n",
    "    print(\"Dad: You should have taken things seriously!\")"
   ]
  },
  {
   "cell_type": "code",
   "execution_count": 11,
   "id": "7599b5ed",
   "metadata": {},
   "outputs": [
    {
     "data": {
      "text/plain": [
       "['Bat', 'Ma', 'n_Sup', 'er', 'Man_Spi', 'derM', 'an']"
      ]
     },
     "execution_count": 11,
     "metadata": {},
     "output_type": "execute_result"
    }
   ],
   "source": [
    "s = \"Bat-Ma-n_Sup-er-Man_Spi-derM-an\"\n",
    "s.replace('-','/',).split('/')\n"
   ]
  },
  {
   "cell_type": "code",
   "execution_count": 1,
   "id": "2448153b",
   "metadata": {},
   "outputs": [
    {
     "ename": "SyntaxError",
     "evalue": "invalid syntax (3119951011.py, line 1)",
     "output_type": "error",
     "traceback": [
      "\u001b[1;36m  Input \u001b[1;32mIn [1]\u001b[1;36m\u001b[0m\n\u001b[1;33m    class Parent\u001b[0m\n\u001b[1;37m                ^\u001b[0m\n\u001b[1;31mSyntaxError\u001b[0m\u001b[1;31m:\u001b[0m invalid syntax\n"
     ]
    }
   ],
   "source": [
    "class Parent\n",
    "{\n",
    "       int a=100;\n",
    "       public void display()\n",
    "       {\n",
    "              System.out.println(\"Display in parent A: \"+a);\n",
    "       }\n",
    "}\n",
    "\n",
    "class Child extends Parent\n",
    "{\n",
    "       int b=200;\n",
    "\n",
    "       public void display()\n",
    "       {\n",
    "              System.out.println(\"Display in parent B: \"+b);\n",
    "       }\n",
    "}\n",
    "\n",
    "public class Main\n",
    "{\n",
    "       public static void main(String args[])\n",
    "       {\n",
    "              Parent obj = new Child();\n",
    "              obj.display();\n",
    "       }\n",
    "}"
   ]
  },
  {
   "cell_type": "code",
   "execution_count": 1,
   "id": "b77820d5",
   "metadata": {},
   "outputs": [
    {
     "name": "stdout",
     "output_type": "stream",
     "text": [
      "b'\\x1f\\x8b\\x08\\x00$\\x00\\x7fc\\x02\\xff\\xcbH\\xcd\\xc9\\xc9W(\\xcf/\\xcaIQ\\xcc \\x82\\r\\x00\\xd3\\xe6\\xcf\\xae0\\x00\\x00\\x00'\n",
      "b'hello world!hello world!hello world!hello world!'\n"
     ]
    }
   ],
   "source": [
    "import gzip\n",
    "s=b'hello world!hello world!hello world!hello world!'\n",
    "t=gzip.compress(s)\n",
    "print(t)\n",
    "print(gzip.decompress(t))"
   ]
  },
  {
   "cell_type": "code",
   "execution_count": 16,
   "id": "f9856d95",
   "metadata": {},
   "outputs": [
    {
     "name": "stdout",
     "output_type": "stream",
     "text": [
      "7 set()\n",
      "49 {7}\n",
      "97 {49, 7}\n",
      "130 {49, 97, 7}\n",
      "10 {49, 130, 97, 7}\n",
      "1 {97, 130, 7, 10, 49}\n",
      "True\n",
      "94 set()\n",
      "97 {94}\n",
      "130 {97, 94}\n",
      "10 {97, 130, 94}\n",
      "1 {97, 130, 10, 94}\n",
      "True\n",
      "4 set()\n",
      "16 {4}\n",
      "37 {16, 4}\n",
      "58 {16, 4, 37}\n",
      "89 {16, 58, 4, 37}\n",
      "145 {4, 37, 16, 89, 58}\n",
      "42 {4, 37, 16, 145, 89, 58}\n",
      "20 {4, 37, 42, 16, 145, 89, 58}\n",
      "4 {4, 37, 42, 16, 145, 20, 89, 58}\n",
      "False\n"
     ]
    }
   ],
   "source": [
    "class Solution():\n",
    "    def isHappy(self, n: int) -> bool:\n",
    "        \n",
    "      past = set()\n",
    "      while n != 1:\n",
    "        n = sum(int(i)**2 for i in str(n))\n",
    "        print(n,past)\n",
    "        if n in past:\n",
    "            return False\n",
    "        past.add(n)\n",
    "      return True\n",
    "\n",
    "p=Solution()\n",
    "print(p.isHappy(1111111))\n",
    "print(p.isHappy(932))\n",
    "print(p.isHappy(2))"
   ]
  },
  {
   "cell_type": "code",
   "execution_count": 21,
   "id": "918146da",
   "metadata": {},
   "outputs": [],
   "source": [
    "import random"
   ]
  },
  {
   "cell_type": "code",
   "execution_count": 94,
   "id": "fe7b61c6",
   "metadata": {},
   "outputs": [],
   "source": [
    "class bowl():\n",
    "    def scorer(self):\n",
    "        randamnum=list(map(lambda randamnum :random.randrange(0,10) ,[i for i in range(0,10)]))\n",
    "        return(( randamnum))"
   ]
  },
  {
   "cell_type": "code",
   "execution_count": 95,
   "id": "c3c4213f",
   "metadata": {},
   "outputs": [],
   "source": [
    "p=bowl()\n",
    "l=p.scorer()"
   ]
  },
  {
   "cell_type": "code",
   "execution_count": 96,
   "id": "b4c2198e",
   "metadata": {},
   "outputs": [
    {
     "name": "stdout",
     "output_type": "stream",
     "text": [
      "[4, 2, 9, 7, 7, 9, 4, 1, 2, 9] 54\n"
     ]
    }
   ],
   "source": [
    "print(l,np.sum(l))"
   ]
  },
  {
   "cell_type": "code",
   "execution_count": 88,
   "id": "24c6e809",
   "metadata": {},
   "outputs": [
    {
     "data": {
      "text/plain": [
       "[5, 4, 5, 1, 1, 7, 7, 9, 2, 7]"
      ]
     },
     "execution_count": 88,
     "metadata": {},
     "output_type": "execute_result"
    }
   ],
   "source": [
    "ra=0\n",
    "randamnum=list(map(lambda randamnum :random.randrange(0,10) ,[i for i in range(0,10)]))\n",
    "randamnum"
   ]
  },
  {
   "cell_type": "code",
   "execution_count": 76,
   "id": "c5e0797e",
   "metadata": {},
   "outputs": [
    {
     "data": {
      "text/plain": [
       "93"
      ]
     },
     "execution_count": 76,
     "metadata": {},
     "output_type": "execute_result"
    }
   ],
   "source": [
    "import numpy as np\n",
    "np.sum(randamnum)"
   ]
  },
  {
   "cell_type": "code",
   "execution_count": 100,
   "id": "95165278",
   "metadata": {},
   "outputs": [],
   "source": [
    "l1=[1,2,3,4,5,63,55,77,78,66]\n",
    "l2=[2,3,4,64,54,78]"
   ]
  },
  {
   "cell_type": "code",
   "execution_count": 110,
   "id": "5eb779e3",
   "metadata": {},
   "outputs": [
    {
     "data": {
      "text/plain": [
       "[2, 4, 78, 66, 2, 4, 64, 54, 78]"
      ]
     },
     "execution_count": 110,
     "metadata": {},
     "output_type": "execute_result"
    }
   ],
   "source": [
    "l3=[]\n",
    "l3=[i for i in l1 if i%2==0]\n",
    "l4=[i for i in l2 if i%2==0]\n",
    "l5=l3+l4\n",
    "l5"
   ]
  },
  {
   "cell_type": "code",
   "execution_count": 111,
   "id": "5f885e8f",
   "metadata": {},
   "outputs": [
    {
     "data": {
      "text/plain": [
       "{2, 4, 54, 64, 66, 78}"
      ]
     },
     "execution_count": 111,
     "metadata": {},
     "output_type": "execute_result"
    }
   ],
   "source": [
    "set(l5)"
   ]
  },
  {
   "cell_type": "code",
   "execution_count": 5,
   "id": "ac08447e",
   "metadata": {},
   "outputs": [
    {
     "name": "stdout",
     "output_type": "stream",
     "text": [
      "dhjhdjf djhfj djfj\n",
      "1\n"
     ]
    }
   ],
   "source": [
    "def LongestWord(sen):\n",
    "\n",
    "  # code goes here\n",
    "  \n",
    "  sen=len(max(sen, key=len))\n",
    "  return sen\n",
    "\n",
    "# keep this function call here \n",
    "print(LongestWord(input()))"
   ]
  },
  {
   "cell_type": "code",
   "execution_count": null,
   "id": "f764ab05",
   "metadata": {},
   "outputs": [],
   "source": [
    "longestWordLength = len(max(wordsList, key=len))"
   ]
  },
  {
   "cell_type": "code",
   "execution_count": 6,
   "id": "7d316fb7",
   "metadata": {},
   "outputs": [
    {
     "name": "stdout",
     "output_type": "stream",
     "text": [
      "Enter sentence: ffdjkh djjd ajd\n",
      "Longest word is:  ffdjkh\n",
      "And its length is:  6\n"
     ]
    }
   ],
   "source": [
    "sentence = input(\"Enter sentence: \")\n",
    "\n",
    "# Finding longest word\n",
    "longest = max(sentence.split(), key=len)\n",
    "\n",
    "# Displaying longest word\n",
    "print(\"Longest word is: \", longest)\n",
    "print(\"And its length is: \", len(longest))"
   ]
  },
  {
   "cell_type": "code",
   "execution_count": 18,
   "id": "2d1985c6",
   "metadata": {},
   "outputs": [
    {
     "name": "stdout",
     "output_type": "stream",
     "text": [
      "hai how are you\n",
      "hai\n"
     ]
    }
   ],
   "source": [
    "def LongestWord(sen):\n",
    "  l=[]\n",
    "  # code goes here\n",
    "  for i in sen.split():\n",
    "   # print(i)\n",
    "    if i.isalpha():\n",
    "      l.append((i))\n",
    "  #print(l)\n",
    "  sen=\" \".join(l)\n",
    "  #print(sen)\n",
    "  sen=max(sen.split(), key=len)\n",
    "  \n",
    "  return sen\n",
    "\n",
    "# keep this function call here \n",
    "print(LongestWord(input()))"
   ]
  },
  {
   "cell_type": "code",
   "execution_count": 11,
   "id": "8c439467",
   "metadata": {},
   "outputs": [
    {
     "name": "stdout",
     "output_type": "stream",
     "text": [
      "hai how are you\n"
     ]
    }
   ],
   "source": [
    "strr=input()"
   ]
  },
  {
   "cell_type": "code",
   "execution_count": 12,
   "id": "b1c2928c",
   "metadata": {},
   "outputs": [
    {
     "data": {
      "text/plain": [
       "str"
      ]
     },
     "execution_count": 12,
     "metadata": {},
     "output_type": "execute_result"
    }
   ],
   "source": [
    "type(strr)"
   ]
  },
  {
   "cell_type": "code",
   "execution_count": 14,
   "id": "68a8d6cb",
   "metadata": {},
   "outputs": [
    {
     "name": "stdout",
     "output_type": "stream",
     "text": [
      "hai\n",
      "how\n",
      "are\n",
      "you\n"
     ]
    }
   ],
   "source": [
    "for i in strr.split():\n",
    "    print(i)"
   ]
  },
  {
   "cell_type": "code",
   "execution_count": 19,
   "id": "abe3225a",
   "metadata": {},
   "outputs": [
    {
     "data": {
      "text/plain": [
       "'uoy era woh iah'"
      ]
     },
     "execution_count": 19,
     "metadata": {},
     "output_type": "execute_result"
    }
   ],
   "source": [
    "strr[::-1]"
   ]
  },
  {
   "cell_type": "code",
   "execution_count": 1,
   "id": "cc5f7cbe",
   "metadata": {},
   "outputs": [
    {
     "name": "stdout",
     "output_type": "stream",
     "text": [
      "Collecting PyInputPlus\n",
      "  Downloading PyInputPlus-0.2.12.tar.gz (20 kB)\n",
      "  Installing build dependencies: started\n",
      "  Installing build dependencies: finished with status 'done'\n",
      "  Getting requirements to build wheel: started\n",
      "  Getting requirements to build wheel: finished with status 'done'\n",
      "    Preparing wheel metadata: started\n",
      "    Preparing wheel metadata: finished with status 'done'\n",
      "Collecting pysimplevalidate>=0.2.7\n",
      "  Downloading PySimpleValidate-0.2.12.tar.gz (22 kB)\n",
      "  Installing build dependencies: started\n",
      "  Installing build dependencies: finished with status 'done'\n",
      "  Getting requirements to build wheel: started\n",
      "  Getting requirements to build wheel: finished with status 'done'\n",
      "    Preparing wheel metadata: started\n",
      "    Preparing wheel metadata: finished with status 'done'\n",
      "Collecting stdiomask>=0.0.3\n",
      "  Downloading stdiomask-0.0.6.tar.gz (3.6 kB)\n",
      "  Installing build dependencies: started\n",
      "  Installing build dependencies: finished with status 'done'\n",
      "  Getting requirements to build wheel: started\n",
      "  Getting requirements to build wheel: finished with status 'done'\n",
      "    Preparing wheel metadata: started\n",
      "    Preparing wheel metadata: finished with status 'done'\n",
      "Building wheels for collected packages: PyInputPlus, pysimplevalidate, stdiomask\n",
      "  Building wheel for PyInputPlus (PEP 517): started\n",
      "  Building wheel for PyInputPlus (PEP 517): finished with status 'done'\n",
      "  Created wheel for PyInputPlus: filename=PyInputPlus-0.2.12-py3-none-any.whl size=11321 sha256=b502dba6cc743a030f9be950974a78ef35d8318c6db309092e518f3d580fb843\n",
      "  Stored in directory: c:\\users\\sowmu\\appdata\\local\\pip\\cache\\wheels\\b4\\6e\\2f\\8a852732646cabec36c3fe8fc060ec5bea1c1be711432c47f7\n",
      "  Building wheel for pysimplevalidate (PEP 517): started\n",
      "  Building wheel for pysimplevalidate (PEP 517): finished with status 'done'\n",
      "  Created wheel for pysimplevalidate: filename=PySimpleValidate-0.2.12-py3-none-any.whl size=16204 sha256=c7faa686448ecf512eee57867ece59849181e09192a21bd2faeaf47f292be9d4\n",
      "  Stored in directory: c:\\users\\sowmu\\appdata\\local\\pip\\cache\\wheels\\b1\\44\\4a\\043a4f4c4512c7cdfb0c2b8408b18b0de5fd45cac57f5dfa02\n",
      "  Building wheel for stdiomask (PEP 517): started\n",
      "  Building wheel for stdiomask (PEP 517): finished with status 'done'\n",
      "  Created wheel for stdiomask: filename=stdiomask-0.0.6-py3-none-any.whl size=3322 sha256=ca214aa3ee64c9d8f6b59ce2f6a7b68d41227dce8f609d9a5c6e55119d0401db\n",
      "  Stored in directory: c:\\users\\sowmu\\appdata\\local\\pip\\cache\\wheels\\1d\\aa\\47\\f41f117d22c5de82e95d9342f44da578c80610739a2d5ebec4\n",
      "Successfully built PyInputPlus pysimplevalidate stdiomask\n",
      "Installing collected packages: stdiomask, pysimplevalidate, PyInputPlus\n",
      "Successfully installed PyInputPlus-0.2.12 pysimplevalidate-0.2.12 stdiomask-0.0.6\n"
     ]
    }
   ],
   "source": [
    "!pip install PyInputPlus"
   ]
  },
  {
   "cell_type": "code",
   "execution_count": 2,
   "id": "bcc9aa64",
   "metadata": {},
   "outputs": [],
   "source": [
    "import pyinputplus as pyip"
   ]
  },
  {
   "cell_type": "code",
   "execution_count": null,
   "id": "f4869888",
   "metadata": {},
   "outputs": [],
   "source": [
    "for i in range(1,7):\n",
    "    if df[i].isnull == False:\n",
    "        l.append(df[i])\n",
    "        \n",
    "#use iloc if showing index error"
   ]
  },
  {
   "cell_type": "code",
   "execution_count": null,
   "id": "2c5d1780",
   "metadata": {},
   "outputs": [],
   "source": [
    "result = df[df.notnull()]"
   ]
  },
  {
   "cell_type": "code",
   "execution_count": 13,
   "id": "bfb752f5",
   "metadata": {},
   "outputs": [
    {
     "data": {
      "text/plain": [
       "25.880000000000003"
      ]
     },
     "execution_count": 13,
     "metadata": {},
     "output_type": "execute_result"
    }
   ],
   "source": [
    "(15.88+10.0)"
   ]
  },
  {
   "cell_type": "code",
   "execution_count": 4,
   "id": "56f030f2",
   "metadata": {},
   "outputs": [
    {
     "data": {
      "text/plain": [
       "115.88"
      ]
     },
     "execution_count": 4,
     "metadata": {},
     "output_type": "execute_result"
    }
   ],
   "source": [
    "15.88+100"
   ]
  },
  {
   "cell_type": "code",
   "execution_count": 27,
   "id": "f08ae874",
   "metadata": {},
   "outputs": [
    {
     "data": {
      "text/plain": [
       "25"
      ]
     },
     "execution_count": 27,
     "metadata": {},
     "output_type": "execute_result"
    }
   ],
   "source": [
    "int(15.88)+int(10)"
   ]
  },
  {
   "cell_type": "code",
   "execution_count": 23,
   "id": "5cdfae77",
   "metadata": {},
   "outputs": [
    {
     "data": {
      "text/plain": [
       "200.56677000000002"
      ]
     },
     "execution_count": 23,
     "metadata": {},
     "output_type": "execute_result"
    }
   ],
   "source": [
    "100.56677+100"
   ]
  },
  {
   "cell_type": "code",
   "execution_count": 24,
   "id": "6eca832d",
   "metadata": {},
   "outputs": [
    {
     "data": {
      "text/plain": [
       "200.566"
      ]
     },
     "execution_count": 24,
     "metadata": {},
     "output_type": "execute_result"
    }
   ],
   "source": [
    "100.566+100"
   ]
  },
  {
   "cell_type": "code",
   "execution_count": 26,
   "id": "a250e640",
   "metadata": {},
   "outputs": [
    {
     "data": {
      "text/plain": [
       "200"
      ]
     },
     "execution_count": 26,
     "metadata": {},
     "output_type": "execute_result"
    }
   ],
   "source": [
    "int(100.5665+100)"
   ]
  },
  {
   "cell_type": "code",
   "execution_count": 28,
   "id": "31762aa8",
   "metadata": {},
   "outputs": [
    {
     "data": {
      "text/plain": [
       "5.551115123125783e-17"
      ]
     },
     "execution_count": 28,
     "metadata": {},
     "output_type": "execute_result"
    }
   ],
   "source": [
    "0.2 + 0.1 - 0.3"
   ]
  },
  {
   "cell_type": "code",
   "execution_count": 30,
   "id": "ce48d4d7",
   "metadata": {},
   "outputs": [],
   "source": [
    "import numpy as np\n",
    "arr=np.zeros((2,3))"
   ]
  },
  {
   "cell_type": "code",
   "execution_count": 31,
   "id": "adcaa186",
   "metadata": {},
   "outputs": [
    {
     "data": {
      "text/plain": [
       "array([[0., 0., 0.],\n",
       "       [0., 0., 0.]])"
      ]
     },
     "execution_count": 31,
     "metadata": {},
     "output_type": "execute_result"
    }
   ],
   "source": [
    "arr"
   ]
  },
  {
   "cell_type": "code",
   "execution_count": 23,
   "id": "1811aea9",
   "metadata": {},
   "outputs": [
    {
     "name": "stdout",
     "output_type": "stream",
     "text": [
      "[10, 12, 23, 23, 16, 3242342, 23, 21, 16, 45, 100, 2, 4, 6, 10, 200, 34, 1123, 12, 14, 5, 3, 66, 12, 6, 3, 1, 3, 2224234]\n"
     ]
    }
   ],
   "source": [
    "import requests\n",
    "import numpy as np\n",
    "import pandas as pd\n",
    "import statistics as sat\n",
    "from statistics import mean\n",
    "\n",
    "rb = requests.get('https://coderbyte.com/api/challenges/json/list-numbers')\n",
    "#print(r)\n",
    "print(rb.json()['data'])\n",
    "r=rb.json()['data']"
   ]
  },
  {
   "cell_type": "code",
   "execution_count": 13,
   "id": "d3dfa998",
   "metadata": {},
   "outputs": [
    {
     "data": {
      "text/plain": [
       "2342130.74990213"
      ]
     },
     "execution_count": 13,
     "metadata": {},
     "output_type": "execute_result"
    }
   ],
   "source": [
    "import statistics as st\n",
    "# statistics.stdev \n",
    "std_3 = round(st.mean(r) + 3 * st.stdev(r),8)\n",
    "std_3"
   ]
  },
  {
   "cell_type": "code",
   "execution_count": 24,
   "id": "62b43acb",
   "metadata": {},
   "outputs": [
    {
     "data": {
      "text/plain": [
       "array([     10,      12,      23,      23,      16, 3242342,      23,\n",
       "            21,      16,      45,     100,       2,       4,       6,\n",
       "            10,     200,      34,    1123,      12,      14,       5,\n",
       "             3,      66,      12,       6,       3,       1,       3,\n",
       "       2224234])"
      ]
     },
     "execution_count": 24,
     "metadata": {},
     "output_type": "execute_result"
    }
   ],
   "source": [
    "x=rb.json()['data']\n",
    "x1=np.array(x)\n",
    "x1"
   ]
  },
  {
   "cell_type": "code",
   "execution_count": 61,
   "id": "76f0bc09",
   "metadata": {},
   "outputs": [
    {
     "ename": "TypeError",
     "evalue": "'builtin_function_or_method' object is not subscriptable",
     "output_type": "error",
     "traceback": [
      "\u001b[1;31m---------------------------------------------------------------------------\u001b[0m",
      "\u001b[1;31mTypeError\u001b[0m                                 Traceback (most recent call last)",
      "Input \u001b[1;32mIn [61]\u001b[0m, in \u001b[0;36m<cell line: 1>\u001b[1;34m()\u001b[0m\n\u001b[1;32m----> 1\u001b[0m \u001b[38;5;28;43mprint\u001b[39;49m\u001b[43m \u001b[49m\u001b[43m[\u001b[49m\u001b[43mx1\u001b[49m\u001b[38;5;241;43m.\u001b[39;49m\u001b[43mmean\u001b[49m\u001b[43m(\u001b[49m\u001b[43m)\u001b[49m\u001b[43m \u001b[49m\u001b[38;5;241;43m-\u001b[39;49m\u001b[43m \u001b[49m\u001b[38;5;241;43m3\u001b[39;49m\u001b[43m \u001b[49m\u001b[38;5;241;43m*\u001b[39;49m\u001b[43m \u001b[49m\u001b[43mx1\u001b[49m\u001b[38;5;241;43m.\u001b[39;49m\u001b[43mstd\u001b[49m\u001b[43m(\u001b[49m\u001b[43m)\u001b[49m\u001b[43m,\u001b[49m\u001b[43m \u001b[49m\u001b[43mx1\u001b[49m\u001b[38;5;241;43m.\u001b[39;49m\u001b[43mmean\u001b[49m\u001b[43m(\u001b[49m\u001b[43m)\u001b[49m\u001b[43m \u001b[49m\u001b[38;5;241;43m+\u001b[39;49m\u001b[43m \u001b[49m\u001b[38;5;241;43m3\u001b[39;49m\u001b[43m \u001b[49m\u001b[38;5;241;43m*\u001b[39;49m\u001b[43m \u001b[49m\u001b[43mx1\u001b[49m\u001b[38;5;241;43m.\u001b[39;49m\u001b[43mstd\u001b[49m\u001b[43m(\u001b[49m\u001b[43m)\u001b[49m\u001b[43m]\u001b[49m\n",
      "\u001b[1;31mTypeError\u001b[0m: 'builtin_function_or_method' object is not subscriptable"
     ]
    }
   ],
   "source": [
    "print [x1.mean() - 3 * x1.std(), x1.mean() + 3 * x1.std()]"
   ]
  },
  {
   "cell_type": "code",
   "execution_count": 25,
   "id": "2e68e8e0",
   "metadata": {},
   "outputs": [
    {
     "name": "stdout",
     "output_type": "stream",
     "text": [
      "[     10      12      23      23      16      23      21      16      45\n",
      "     100       2       4       6      10     200      34    1123      12\n",
      "      14       5       3      66      12       6       3       1       3\n",
      " 2224234]\n"
     ]
    }
   ],
   "source": [
    "from scipy import stats\n",
    "a_no_outliers = x1[(np.abs(stats.zscore(x1)) < 3)]\n",
    "print(a_no_outliers)\n",
    "#"
   ]
  },
  {
   "cell_type": "code",
   "execution_count": 26,
   "id": "3cdb1ea0",
   "metadata": {},
   "outputs": [
    {
     "name": "stderr",
     "output_type": "stream",
     "text": [
      "C:\\Users\\sowmu\\Anaconda3\\lib\\site-packages\\seaborn\\_decorators.py:36: FutureWarning: Pass the following variable as a keyword arg: x. From version 0.12, the only valid positional argument will be `data`, and passing other arguments without an explicit keyword will result in an error or misinterpretation.\n",
      "  warnings.warn(\n"
     ]
    },
    {
     "data": {
      "text/plain": [
       "<AxesSubplot:>"
      ]
     },
     "execution_count": 26,
     "metadata": {},
     "output_type": "execute_result"
    },
    {
     "data": {
      "image/png": "[encoded data removed]",
      "text/plain": [
       "<Figure size 432x288 with 1 Axes>"
      ]
     },
     "metadata": {
      "needs_background": "light"
     },
     "output_type": "display_data"
    }
   ],
   "source": [
    "import seaborn as sns\n",
    "sns.boxplot(x1)"
   ]
  },
  {
   "cell_type": "code",
   "execution_count": 73,
   "id": "c0316f30",
   "metadata": {},
   "outputs": [
    {
     "name": "stderr",
     "output_type": "stream",
     "text": [
      "C:\\Users\\sowmu\\Anaconda3\\lib\\site-packages\\seaborn\\distributions.py:2619: FutureWarning: `distplot` is a deprecated function and will be removed in a future version. Please adapt your code to use either `displot` (a figure-level function with similar flexibility) or `histplot` (an axes-level function for histograms).\n",
      "  warnings.warn(msg, FutureWarning)\n"
     ]
    },
    {
     "data": {
      "text/plain": [
       "<AxesSubplot:ylabel='Density'>"
      ]
     },
     "execution_count": 73,
     "metadata": {},
     "output_type": "execute_result"
    },
    {
     "data": {
      "image/png": "[encoded data removed]",
      "text/plain": [
       "<Figure size 432x288 with 1 Axes>"
      ]
     },
     "metadata": {
      "needs_background": "light"
     },
     "output_type": "display_data"
    }
   ],
   "source": [
    "sns.distplot(x1)"
   ]
  },
  {
   "cell_type": "code",
   "execution_count": 28,
   "id": "ecf27d02",
   "metadata": {},
   "outputs": [
    {
     "name": "stdout",
     "output_type": "stream",
     "text": [
      "45678\n",
      "4356\n"
     ]
    }
   ],
   "source": [
    "n = int(input())\n",
    "data = list(map(int, input().split()))"
   ]
  },
  {
   "cell_type": "code",
   "execution_count": 29,
   "id": "b070f1c7",
   "metadata": {},
   "outputs": [
    {
     "data": {
      "text/plain": [
       "[4356]"
      ]
     },
     "execution_count": 29,
     "metadata": {},
     "output_type": "execute_result"
    }
   ],
   "source": [
    "data"
   ]
  },
  {
   "cell_type": "code",
   "execution_count": 40,
   "id": "45781ba3",
   "metadata": {},
   "outputs": [
    {
     "data": {
      "text/plain": [
       "0     dd\n",
       "1    NaN\n",
       "2     dd\n",
       "dtype: object"
      ]
     },
     "execution_count": 40,
     "metadata": {},
     "output_type": "execute_result"
    }
   ],
   "source": [
    "s = pd.Series([\"dd\", np.nan, \"dd\"])\n",
    "s[s!= np.nan]\n",
    "\n",
    "\n"
   ]
  },
  {
   "cell_type": "code",
   "execution_count": 38,
   "id": "a7a9ed7c",
   "metadata": {},
   "outputs": [
    {
     "data": {
      "text/plain": [
       "float"
      ]
     },
     "execution_count": 38,
     "metadata": {},
     "output_type": "execute_result"
    }
   ],
   "source": [
    "type(np.nan)"
   ]
  },
  {
   "cell_type": "code",
   "execution_count": 42,
   "id": "d675dece",
   "metadata": {},
   "outputs": [],
   "source": [
    "a=np.random.randint([1, 5, 7], 10)"
   ]
  },
  {
   "cell_type": "code",
   "execution_count": 43,
   "id": "7882a79d",
   "metadata": {},
   "outputs": [
    {
     "data": {
      "text/plain": [
       "array([1, 9, 9])"
      ]
     },
     "execution_count": 43,
     "metadata": {},
     "output_type": "execute_result"
    }
   ],
   "source": [
    "a"
   ]
  },
  {
   "cell_type": "code",
   "execution_count": 44,
   "id": "889e8127",
   "metadata": {},
   "outputs": [
    {
     "name": "stdout",
     "output_type": "stream",
     "text": [
      "1 : 1\n",
      "2 : 1\n",
      "3 : 1\n",
      "4 : 1\n",
      "2 : 1\n",
      "3 : 1\n",
      "4 : 1\n",
      "5 : 1\n",
      "6 : 1\n",
      "3 : 1\n",
      "4 : 1\n",
      "5 : 1\n",
      "6 : 1\n",
      "7 : 1\n",
      "k1 : 1\n",
      "k2 : 1\n",
      "k3 : 1\n",
      "3 : 1\n",
      "7 : 1\n",
      "ineuron : 1\n",
      "data sciences : 1\n"
     ]
    }
   ],
   "source": [
    "l = [(1, 2, 3, 4),\n",
    "(2, 3, 4, 5, 6),\n",
    "(3, 4, 5, 6, 7),\n",
    "{4, 5, 23, 45},\n",
    "{'k1': 'sudh', 'k2': 'ineuron', 'k3': 'kumar', 3: 6, 7: 8},\n",
    "['ineuron', 'data sciences']]\n",
    "for i in l:\n",
    "    if type(i) == list or type(i) == tuple or type(i) == dict :\n",
    "        for j in i:\n",
    "        print(j , \":\", l.count(i))"
   ]
  },
  {
   "cell_type": "code",
   "execution_count": 45,
   "id": "6d824321",
   "metadata": {},
   "outputs": [
    {
     "data": {
      "text/plain": [
       "0"
      ]
     },
     "execution_count": 45,
     "metadata": {},
     "output_type": "execute_result"
    }
   ],
   "source": [
    "l.count(2)"
   ]
  },
  {
   "cell_type": "code",
   "execution_count": 47,
   "id": "e89492a4",
   "metadata": {},
   "outputs": [
    {
     "name": "stdout",
     "output_type": "stream",
     "text": [
      "1 : 1\n",
      "1 : 1\n",
      "2 : 1\n",
      "1 : 1\n",
      "2 : 1\n",
      "3 : 1\n",
      "1 : 1\n",
      "2 : 1\n",
      "3 : 1\n",
      "4 : 1\n",
      "1 : 1\n",
      "2 : 2\n",
      "3 : 1\n",
      "4 : 1\n",
      "2 : 2\n",
      "1 : 1\n",
      "2 : 2\n",
      "3 : 2\n",
      "4 : 1\n",
      "2 : 2\n",
      "3 : 2\n",
      "1 : 1\n",
      "2 : 2\n",
      "3 : 2\n",
      "4 : 2\n",
      "2 : 2\n",
      "3 : 2\n",
      "4 : 2\n",
      "1 : 1\n",
      "2 : 2\n",
      "3 : 2\n",
      "4 : 2\n",
      "2 : 2\n",
      "3 : 2\n",
      "4 : 2\n",
      "5 : 1\n",
      "1 : 1\n",
      "2 : 2\n",
      "3 : 2\n",
      "4 : 2\n",
      "2 : 2\n",
      "3 : 2\n",
      "4 : 2\n",
      "5 : 1\n",
      "6 : 1\n",
      "1 : 1\n",
      "2 : 2\n",
      "3 : 3\n",
      "4 : 2\n",
      "2 : 2\n",
      "3 : 3\n",
      "4 : 2\n",
      "5 : 1\n",
      "6 : 1\n",
      "3 : 3\n",
      "1 : 1\n",
      "2 : 2\n",
      "3 : 3\n",
      "4 : 3\n",
      "2 : 2\n",
      "3 : 3\n",
      "4 : 3\n",
      "5 : 1\n",
      "6 : 1\n",
      "3 : 3\n",
      "4 : 3\n",
      "1 : 1\n",
      "2 : 2\n",
      "3 : 3\n",
      "4 : 3\n",
      "2 : 2\n",
      "3 : 3\n",
      "4 : 3\n",
      "5 : 2\n",
      "6 : 1\n",
      "3 : 3\n",
      "4 : 3\n",
      "5 : 2\n",
      "1 : 1\n",
      "2 : 2\n",
      "3 : 3\n",
      "4 : 3\n",
      "2 : 2\n",
      "3 : 3\n",
      "4 : 3\n",
      "5 : 2\n",
      "6 : 2\n",
      "3 : 3\n",
      "4 : 3\n",
      "5 : 2\n",
      "6 : 2\n",
      "1 : 1\n",
      "2 : 2\n",
      "3 : 3\n",
      "4 : 3\n",
      "2 : 2\n",
      "3 : 3\n",
      "4 : 3\n",
      "5 : 2\n",
      "6 : 2\n",
      "3 : 3\n",
      "4 : 3\n",
      "5 : 2\n",
      "6 : 2\n",
      "7 : 1\n",
      "1 : 1\n",
      "2 : 2\n",
      "3 : 3\n",
      "4 : 3\n",
      "2 : 2\n",
      "3 : 3\n",
      "4 : 3\n",
      "5 : 2\n",
      "6 : 2\n",
      "3 : 3\n",
      "4 : 3\n",
      "5 : 2\n",
      "6 : 2\n",
      "7 : 1\n",
      "k1 : 1\n",
      "1 : 1\n",
      "2 : 2\n",
      "3 : 3\n",
      "4 : 3\n",
      "2 : 2\n",
      "3 : 3\n",
      "4 : 3\n",
      "5 : 2\n",
      "6 : 2\n",
      "3 : 3\n",
      "4 : 3\n",
      "5 : 2\n",
      "6 : 2\n",
      "7 : 1\n",
      "k1 : 1\n",
      "k2 : 1\n",
      "1 : 1\n",
      "2 : 2\n",
      "3 : 3\n",
      "4 : 3\n",
      "2 : 2\n",
      "3 : 3\n",
      "4 : 3\n",
      "5 : 2\n",
      "6 : 2\n",
      "3 : 3\n",
      "4 : 3\n",
      "5 : 2\n",
      "6 : 2\n",
      "7 : 1\n",
      "k1 : 1\n",
      "k2 : 1\n",
      "k3 : 1\n",
      "1 : 1\n",
      "2 : 2\n",
      "3 : 4\n",
      "4 : 3\n",
      "2 : 2\n",
      "3 : 4\n",
      "4 : 3\n",
      "5 : 2\n",
      "6 : 2\n",
      "3 : 4\n",
      "4 : 3\n",
      "5 : 2\n",
      "6 : 2\n",
      "7 : 1\n",
      "k1 : 1\n",
      "k2 : 1\n",
      "k3 : 1\n",
      "3 : 4\n",
      "1 : 1\n",
      "2 : 2\n",
      "3 : 4\n",
      "4 : 3\n",
      "2 : 2\n",
      "3 : 4\n",
      "4 : 3\n",
      "5 : 2\n",
      "6 : 2\n",
      "3 : 4\n",
      "4 : 3\n",
      "5 : 2\n",
      "6 : 2\n",
      "7 : 2\n",
      "k1 : 1\n",
      "k2 : 1\n",
      "k3 : 1\n",
      "3 : 4\n",
      "7 : 2\n",
      "1 : 1\n",
      "2 : 2\n",
      "3 : 4\n",
      "4 : 3\n",
      "2 : 2\n",
      "3 : 4\n",
      "4 : 3\n",
      "5 : 2\n",
      "6 : 2\n",
      "3 : 4\n",
      "4 : 3\n",
      "5 : 2\n",
      "6 : 2\n",
      "7 : 2\n",
      "k1 : 1\n",
      "k2 : 1\n",
      "k3 : 1\n",
      "3 : 4\n",
      "7 : 2\n",
      "ineuron : 1\n",
      "1 : 1\n",
      "2 : 2\n",
      "3 : 4\n",
      "4 : 3\n",
      "2 : 2\n",
      "3 : 4\n",
      "4 : 3\n",
      "5 : 2\n",
      "6 : 2\n",
      "3 : 4\n",
      "4 : 3\n",
      "5 : 2\n",
      "6 : 2\n",
      "7 : 2\n",
      "k1 : 1\n",
      "k2 : 1\n",
      "k3 : 1\n",
      "3 : 4\n",
      "7 : 2\n",
      "ineuron : 1\n",
      "data sciences : 1\n"
     ]
    }
   ],
   "source": [
    "l1=[]\n",
    "for i in l:\n",
    "    if type(i) == list or type(i) == tuple or type(i) == dict :\n",
    "        for j in i:\n",
    "            if type(j) == str or int :\n",
    "                l1.append(j)\n",
    "                for k in l1 :\n",
    "                    print(k , \":\", l1.count(k))"
   ]
  },
  {
   "cell_type": "code",
   "execution_count": 48,
   "id": "d032f48d",
   "metadata": {},
   "outputs": [
    {
     "ename": "TypeError",
     "evalue": "unhashable type: 'set'",
     "output_type": "error",
     "traceback": [
      "\u001b[1;31m---------------------------------------------------------------------------\u001b[0m",
      "\u001b[1;31mTypeError\u001b[0m                                 Traceback (most recent call last)",
      "Input \u001b[1;32mIn [48]\u001b[0m, in \u001b[0;36m<cell line: 2>\u001b[1;34m()\u001b[0m\n\u001b[0;32m      1\u001b[0m \u001b[38;5;28;01mfrom\u001b[39;00m \u001b[38;5;21;01mcollections\u001b[39;00m \u001b[38;5;28;01mimport\u001b[39;00m Counter \n\u001b[1;32m----> 2\u001b[0m my_counts \u001b[38;5;241m=\u001b[39m \u001b[43mCounter\u001b[49m\u001b[43m(\u001b[49m\u001b[43ml\u001b[49m\u001b[43m)\u001b[49m\n",
      "File \u001b[1;32m~\\Anaconda3\\lib\\collections\\__init__.py:593\u001b[0m, in \u001b[0;36mCounter.__init__\u001b[1;34m(self, iterable, **kwds)\u001b[0m\n\u001b[0;32m    582\u001b[0m \u001b[38;5;124;03m'''Create a new, empty Counter object.  And if given, count elements\u001b[39;00m\n\u001b[0;32m    583\u001b[0m \u001b[38;5;124;03mfrom an input iterable.  Or, initialize the count from another mapping\u001b[39;00m\n\u001b[0;32m    584\u001b[0m \u001b[38;5;124;03mof elements to their counts.\u001b[39;00m\n\u001b[1;32m   (...)\u001b[0m\n\u001b[0;32m    590\u001b[0m \n\u001b[0;32m    591\u001b[0m \u001b[38;5;124;03m'''\u001b[39;00m\n\u001b[0;32m    592\u001b[0m \u001b[38;5;28msuper\u001b[39m()\u001b[38;5;241m.\u001b[39m\u001b[38;5;21m__init__\u001b[39m()\n\u001b[1;32m--> 593\u001b[0m \u001b[38;5;28mself\u001b[39m\u001b[38;5;241m.\u001b[39mupdate(iterable, \u001b[38;5;241m*\u001b[39m\u001b[38;5;241m*\u001b[39mkwds)\n",
      "File \u001b[1;32m~\\Anaconda3\\lib\\collections\\__init__.py:679\u001b[0m, in \u001b[0;36mCounter.update\u001b[1;34m(self, iterable, **kwds)\u001b[0m\n\u001b[0;32m    677\u001b[0m             \u001b[38;5;28msuper\u001b[39m()\u001b[38;5;241m.\u001b[39mupdate(iterable)\n\u001b[0;32m    678\u001b[0m     \u001b[38;5;28;01melse\u001b[39;00m:\n\u001b[1;32m--> 679\u001b[0m         \u001b[43m_count_elements\u001b[49m\u001b[43m(\u001b[49m\u001b[38;5;28;43mself\u001b[39;49m\u001b[43m,\u001b[49m\u001b[43m \u001b[49m\u001b[43miterable\u001b[49m\u001b[43m)\u001b[49m\n\u001b[0;32m    680\u001b[0m \u001b[38;5;28;01mif\u001b[39;00m kwds:\n\u001b[0;32m    681\u001b[0m     \u001b[38;5;28mself\u001b[39m\u001b[38;5;241m.\u001b[39mupdate(kwds)\n",
      "\u001b[1;31mTypeError\u001b[0m: unhashable type: 'set'"
     ]
    }
   ],
   "source": [
    "from collections import Counter \n",
    "my_counts = Counter(l) "
   ]
  },
  {
   "cell_type": "code",
   "execution_count": 49,
   "id": "7f87dc48",
   "metadata": {},
   "outputs": [
    {
     "name": "stdout",
     "output_type": "stream",
     "text": [
      "{1: 1, 2: 2, 3: 3, 4: 2, 5: 2, 6: 1, 7: 1, 8: 1}\n"
     ]
    }
   ],
   "source": [
    "lst=[1,2,3,4,2,3,5,6,7,3,4,5,8] \n",
    "d={} \n",
    "for i in lst: \n",
    "    if type(i) == list or type(i) == tuple or type(i) == dict :\n",
    "        for j in i:\n",
    "            if(i not in d): \n",
    "                d[i]=1 \n",
    "    else: \n",
    "        d[i]+=1 \n",
    "print(d) "
   ]
  },
  {
   "cell_type": "code",
   "execution_count": 90,
   "id": "6cda2d23",
   "metadata": {},
   "outputs": [
    {
     "name": "stdout",
     "output_type": "stream",
     "text": [
      "{1: 1, 2: 2, 3: 4, 4: 4, 5: 3, 6: 3, 7: 2, 45: 1, 23: 1, 'k1': 1, 'sudh': 1, 'k2': 1, 'ineuron': 2, 'k3': 1, 'kumar': 1, 8: 1, 'data sciences': 1}\n"
     ]
    }
   ],
   "source": [
    "l = [(1, 2, 3, 4),\n",
    "(2, 3, 4, 5, 6),\n",
    "(3, 4, 5, 6, 7),\n",
    "{4, 5, 23, 45},\n",
    "{'k1': 'sudh', 'k2': 'ineuron', 'k3': 'kumar', 3: 6, 7: 8},\n",
    "['ineuron', 'data sciences']]\n",
    "\n",
    "new=[]\n",
    "d={}\n",
    "for i in l:\n",
    "    if type(i)==list or type(i)==tuple or type(i)== set:\n",
    "        for j in i:\n",
    "            new.append(j)\n",
    "    elif type(i)==dict:\n",
    "        for j in i:\n",
    "            new.append(j)\n",
    "            new.append(i[j])\n",
    "    else:\n",
    "        new.append(i)\n",
    "        \n",
    "for i in new:\n",
    "    if(i not in d):\n",
    "        d[i]=1\n",
    "    else:\n",
    "        d[i]+=1\n",
    "print(d)"
   ]
  },
  {
   "cell_type": "code",
   "execution_count": 79,
   "id": "7d3c010e",
   "metadata": {},
   "outputs": [
    {
     "data": {
      "text/plain": [
       "'data sciences'"
      ]
     },
     "execution_count": 79,
     "metadata": {},
     "output_type": "execute_result"
    }
   ],
   "source": []
  },
  {
   "cell_type": "code",
   "execution_count": 83,
   "id": "7015c973",
   "metadata": {},
   "outputs": [
    {
     "name": "stdout",
     "output_type": "stream",
     "text": [
      "[[23, 456, 67, 8, 78, 78], [345, 56, 87, 8, 98, 9]]\n"
     ]
    }
   ],
   "source": [
    "l = [3,4,5,6,7 , [23,456,67,8,78,78] , [345,56,87,8,98,9] , (234,6657,6) , {\"key1\" :\"sudh\" , 234:[23,45,656]}]\n",
    "new=[]\n",
    "for i in l:\n",
    "    if type(i)== list:\n",
    "        new.append(i)\n",
    "print(new)"
   ]
  },
  {
   "cell_type": "code",
   "execution_count": 5,
   "id": "36209f9f",
   "metadata": {},
   "outputs": [
    {
     "name": "stderr",
     "output_type": "stream",
     "text": [
      "C:\\Users\\sowmu\\Anaconda3\\lib\\site-packages\\sklearn\\cluster\\_kmeans.py:1334: UserWarning: KMeans is known to have a memory leak on Windows with MKL, when there are less chunks than available threads. You can avoid it by setting the environment variable OMP_NUM_THREADS=1.\n",
      "  warnings.warn(\n"
     ]
    }
   ],
   "source": [
    "from sklearn.cluster import KMeans\n",
    "import numpy as np\n",
    "X = np.array([[1, 2], [1, 4], [1, 0],[10, 2], [10, 4], [10, 0]])\n",
    "kmeans = KMeans(n_clusters=2, random_state=0, n_init=10).fit(X)"
   ]
  },
  {
   "cell_type": "code",
   "execution_count": 2,
   "id": "c3cb35d9",
   "metadata": {},
   "outputs": [],
   "source": [
    "import nltk\n",
    "import ssl\n",
    "\n",
    "try:\n",
    "    _create_unverified_https_context = ssl._create_unverified_context\n",
    "except AttributeError:\n",
    "    pass\n",
    "else:\n",
    "    ssl._create_default_https_context = _create_unverified_https_context\n",
    "\n",
    "#nltk.download()"
   ]
  },
  {
   "cell_type": "code",
   "execution_count": 4,
   "id": "5ba7a9a0",
   "metadata": {},
   "outputs": [
    {
     "name": "stderr",
     "output_type": "stream",
     "text": [
      "[nltk_data] Downloading package stopwords to\n",
      "[nltk_data]     C:\\Users\\sowmu\\AppData\\Roaming\\nltk_data...\n",
      "[nltk_data]   Package stopwords is already up-to-date!\n"
     ]
    },
    {
     "data": {
      "text/plain": [
       "True"
      ]
     },
     "execution_count": 4,
     "metadata": {},
     "output_type": "execute_result"
    }
   ],
   "source": [
    "import nltk\n",
    "import ssl\n",
    "try:\n",
    "    _create_unverified_https_context = ssl._create_unverified_context\n",
    "except AttributeError:\n",
    "    pass\n",
    "else:\n",
    "    ssl._create_default_https_context = _create_unverified_https_context\n",
    "nltk.download('stopwords')"
   ]
  },
  {
   "cell_type": "code",
   "execution_count": 31,
   "id": "7cfed007",
   "metadata": {},
   "outputs": [
    {
     "name": "stdout",
     "output_type": "stream",
     "text": [
      "2023-01-06 18:09:24.185514\n"
     ]
    }
   ],
   "source": [
    "import datetime \n",
    "l=[2,3,5]\n",
    "l1=[]\n",
    "t=datetime.datetime.now()\n",
    "#+datetime.time(2)\n",
    "l1=str(t.strftime(\"%m-%d-%y\")) + str(datetime.time(2))\n",
    "\n",
    "print(t)"
   ]
  },
  {
   "cell_type": "code",
   "execution_count": 40,
   "id": "6f48c27d",
   "metadata": {},
   "outputs": [
    {
     "name": "stdout",
     "output_type": "stream",
     "text": [
      "02:00:00 01-06-23\n",
      "03:00:00 01-06-23\n",
      "05:00:00 01-06-23\n"
     ]
    }
   ],
   "source": [
    "l=[2,3,5,45]\n",
    "l1=[]\n",
    "for i in l:\n",
    "    print(str(datetime.time(i)),t.strftime(\"%m-%d-%y\"))\n",
    "    l1.append(str(datetime.time(i)) +\" \"+ t.strftime(\"%m-%d-%y\")) \n",
    "    "
   ]
  },
  {
   "cell_type": "code",
   "execution_count": 41,
   "id": "69f49a85",
   "metadata": {},
   "outputs": [
    {
     "data": {
      "text/plain": [
       "['02:00:00 01-06-23', '03:00:00 01-06-23', '05:00:00 01-06-23']"
      ]
     },
     "execution_count": 41,
     "metadata": {},
     "output_type": "execute_result"
    }
   ],
   "source": [
    "l1"
   ]
  },
  {
   "cell_type": "code",
   "execution_count": 22,
   "id": "a5be8926",
   "metadata": {},
   "outputs": [
    {
     "name": "stdout",
     "output_type": "stream",
     "text": [
      "03:00:00\n"
     ]
    }
   ],
   "source": [
    "d=datetime.time(3,0)\n",
    "print(d)"
   ]
  },
  {
   "cell_type": "code",
   "execution_count": 53,
   "id": "6b9d0d05",
   "metadata": {},
   "outputs": [
    {
     "data": {
      "text/html": [
       "<div>\n",
       "<style scoped>\n",
       "    .dataframe tbody tr th:only-of-type {\n",
       "        vertical-align: middle;\n",
       "    }\n",
       "\n",
       "    .dataframe tbody tr th {\n",
       "        vertical-align: top;\n",
       "    }\n",
       "\n",
       "    .dataframe thead th {\n",
       "        text-align: right;\n",
       "    }\n",
       "</style>\n",
       "<table border=\"1\" class=\"dataframe\">\n",
       "  <thead>\n",
       "    <tr style=\"text-align: right;\">\n",
       "      <th></th>\n",
       "      <th>0</th>\n",
       "      <th>1</th>\n",
       "      <th>2</th>\n",
       "    </tr>\n",
       "  </thead>\n",
       "  <tbody>\n",
       "    <tr>\n",
       "      <th>0</th>\n",
       "      <td>0.500369</td>\n",
       "      <td>0.858060</td>\n",
       "      <td>0.633478</td>\n",
       "    </tr>\n",
       "    <tr>\n",
       "      <th>1</th>\n",
       "      <td>0.871696</td>\n",
       "      <td>0.012931</td>\n",
       "      <td>0.761323</td>\n",
       "    </tr>\n",
       "    <tr>\n",
       "      <th>2</th>\n",
       "      <td>0.917927</td>\n",
       "      <td>0.384486</td>\n",
       "      <td>0.505080</td>\n",
       "    </tr>\n",
       "  </tbody>\n",
       "</table>\n",
       "</div>"
      ],
      "text/plain": [
       "          0         1         2\n",
       "0  0.500369  0.858060  0.633478\n",
       "1  0.871696  0.012931  0.761323\n",
       "2  0.917927  0.384486  0.505080"
      ]
     },
     "execution_count": 53,
     "metadata": {},
     "output_type": "execute_result"
    }
   ],
   "source": [
    "import pandas as pd\n",
    "import numpy as np\n",
    "df=pd.DataFrame(np.random.rand(3,3))\n",
    "df"
   ]
  },
  {
   "cell_type": "code",
   "execution_count": 49,
   "id": "6ac21088",
   "metadata": {},
   "outputs": [],
   "source": [
    "df[0]=df[0].shift()"
   ]
  },
  {
   "cell_type": "code",
   "execution_count": 50,
   "id": "bc2d42e2",
   "metadata": {},
   "outputs": [
    {
     "data": {
      "text/html": [
       "<div>\n",
       "<style scoped>\n",
       "    .dataframe tbody tr th:only-of-type {\n",
       "        vertical-align: middle;\n",
       "    }\n",
       "\n",
       "    .dataframe tbody tr th {\n",
       "        vertical-align: top;\n",
       "    }\n",
       "\n",
       "    .dataframe thead th {\n",
       "        text-align: right;\n",
       "    }\n",
       "</style>\n",
       "<table border=\"1\" class=\"dataframe\">\n",
       "  <thead>\n",
       "    <tr style=\"text-align: right;\">\n",
       "      <th></th>\n",
       "      <th>0</th>\n",
       "      <th>1</th>\n",
       "      <th>2</th>\n",
       "    </tr>\n",
       "  </thead>\n",
       "  <tbody>\n",
       "    <tr>\n",
       "      <th>0</th>\n",
       "      <td>NaN</td>\n",
       "      <td>0.680642</td>\n",
       "      <td>0.653821</td>\n",
       "    </tr>\n",
       "    <tr>\n",
       "      <th>1</th>\n",
       "      <td>0.211384</td>\n",
       "      <td>0.172433</td>\n",
       "      <td>0.206775</td>\n",
       "    </tr>\n",
       "    <tr>\n",
       "      <th>2</th>\n",
       "      <td>0.177156</td>\n",
       "      <td>0.015015</td>\n",
       "      <td>0.470118</td>\n",
       "    </tr>\n",
       "  </tbody>\n",
       "</table>\n",
       "</div>"
      ],
      "text/plain": [
       "          0         1         2\n",
       "0       NaN  0.680642  0.653821\n",
       "1  0.211384  0.172433  0.206775\n",
       "2  0.177156  0.015015  0.470118"
      ]
     },
     "execution_count": 50,
     "metadata": {},
     "output_type": "execute_result"
    }
   ],
   "source": [
    "df"
   ]
  },
  {
   "cell_type": "code",
   "execution_count": 56,
   "id": "3ae72619",
   "metadata": {},
   "outputs": [
    {
     "data": {
      "text/html": [
       "<div>\n",
       "<style scoped>\n",
       "    .dataframe tbody tr th:only-of-type {\n",
       "        vertical-align: middle;\n",
       "    }\n",
       "\n",
       "    .dataframe tbody tr th {\n",
       "        vertical-align: top;\n",
       "    }\n",
       "\n",
       "    .dataframe thead th {\n",
       "        text-align: right;\n",
       "    }\n",
       "</style>\n",
       "<table border=\"1\" class=\"dataframe\">\n",
       "  <thead>\n",
       "    <tr style=\"text-align: right;\">\n",
       "      <th></th>\n",
       "      <th>0</th>\n",
       "      <th>1</th>\n",
       "      <th>2</th>\n",
       "    </tr>\n",
       "  </thead>\n",
       "  <tbody>\n",
       "    <tr>\n",
       "      <th>0</th>\n",
       "      <td>NaN</td>\n",
       "      <td>NaN</td>\n",
       "      <td>0.500369</td>\n",
       "    </tr>\n",
       "    <tr>\n",
       "      <th>1</th>\n",
       "      <td>NaN</td>\n",
       "      <td>NaN</td>\n",
       "      <td>0.871696</td>\n",
       "    </tr>\n",
       "    <tr>\n",
       "      <th>2</th>\n",
       "      <td>NaN</td>\n",
       "      <td>NaN</td>\n",
       "      <td>0.917927</td>\n",
       "    </tr>\n",
       "  </tbody>\n",
       "</table>\n",
       "</div>"
      ],
      "text/plain": [
       "    0   1         2\n",
       "0 NaN NaN  0.500369\n",
       "1 NaN NaN  0.871696\n",
       "2 NaN NaN  0.917927"
      ]
     },
     "execution_count": 56,
     "metadata": {},
     "output_type": "execute_result"
    }
   ],
   "source": [
    "df.shift(2,axis=1)"
   ]
  },
  {
   "cell_type": "code",
   "execution_count": 58,
   "id": "17f31fd7",
   "metadata": {},
   "outputs": [
    {
     "name": "stdout",
     "output_type": "stream",
     "text": [
      "enter name: sowmiya\n",
      "sowmiya\n"
     ]
    }
   ],
   "source": [
    "int1=input(\"enter name: \")\n",
    "print(int1)"
   ]
  },
  {
   "cell_type": "code",
   "execution_count": 59,
   "id": "7ec6d6eb",
   "metadata": {},
   "outputs": [
    {
     "name": "stdout",
     "output_type": "stream",
     "text": [
      "Enter first number3\n",
      "Enter second number9\n",
      "Addition of the given two numbers 12\n",
      "Division of the given two numbers 0.3333333333333333\n"
     ]
    }
   ],
   "source": [
    "a = int(input(\"Enter first number\"))\n",
    "b = int(input(\"Enter second number\"))\n",
    "print(f\"Addition of the given two numbers {a+b}\")\n",
    "print(f\"Division of the given two numbers {a/b}\")"
   ]
  },
  {
   "cell_type": "code",
   "execution_count": null,
   "id": "6465c7cd",
   "metadata": {},
   "outputs": [],
   "source": []
  }
 ],
 "metadata": {
  "kernelspec": {
   "display_name": "Python 3 (ipykernel)",
   "language": "python",
   "name": "python3"
  },
  "language_info": {
   "codemirror_mode": {
    "name": "ipython",
    "version": 3
   },
   "file_extension": ".py",
   "mimetype": "text/x-python",
   "name": "python",
   "nbconvert_exporter": "python",
   "pygments_lexer": "ipython3",
   "version": "3.9.12"
  }
 },
 "nbformat": 4,
 "nbformat_minor": 5
}
