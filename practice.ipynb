{
 "cells": [
  {
   "cell_type": "markdown",
   "id": "37cc8434",
   "metadata": {},
   "source": [
    "ffgsdfg"
   ]
  },
  {
   "cell_type": "code",
   "execution_count": 2,
   "id": "7aa64d3b",
   "metadata": {},
   "outputs": [
    {
     "name": "stdout",
     "output_type": "stream",
     "text": [
      "enter  sowmiya\n",
      "sowmiya\n"
     ]
    }
   ],
   "source": [
    "int1=input(\"enter  \")\n",
    "print(int1)"
   ]
  },
  {
   "cell_type": "code",
   "execution_count": 2,
   "id": "e75a46ff",
   "metadata": {},
   "outputs": [
    {
     "name": "stdout",
     "output_type": "stream",
     "text": [
      "None\n"
     ]
    }
   ],
   "source": [
    "import random\n",
    "p=random.seed(3) #Initialize the random number generator\n",
    "print(p)"
   ]
  },
  {
   "cell_type": "code",
   "execution_count": 5,
   "id": "87b7daf2",
   "metadata": {},
   "outputs": [
    {
     "data": {
      "text/plain": [
       "6"
      ]
     },
     "execution_count": 5,
     "metadata": {},
     "output_type": "execute_result"
    }
   ],
   "source": [
    "s=random.randrange(2,9) #Returns a random number between the given range\n",
    "s"
   ]
  },
  {
   "cell_type": "code",
   "execution_count": 10,
   "id": "ac223c6a",
   "metadata": {},
   "outputs": [
    {
     "data": {
      "text/plain": [
       "620"
      ]
     },
     "execution_count": 10,
     "metadata": {},
     "output_type": "execute_result"
    }
   ],
   "source": [
    "s1=random.randint(2,900) #Returns a random number between the given range\n",
    "s1"
   ]
  },
  {
   "cell_type": "code",
   "execution_count": 12,
   "id": "d5c10b08",
   "metadata": {},
   "outputs": [
    {
     "data": {
      "text/plain": [
       "0.47405353654712656"
      ]
     },
     "execution_count": 12,
     "metadata": {},
     "output_type": "execute_result"
    }
   ],
   "source": [
    "s2=random.random() #Returns a random float number between 0 and 1\n",
    "s2"
   ]
  },
  {
   "cell_type": "code",
   "execution_count": null,
   "id": "1c6325cb",
   "metadata": {},
   "outputs": [],
   "source": []
  },
  {
   "cell_type": "code",
   "execution_count": 17,
   "id": "0392a26c",
   "metadata": {},
   "outputs": [
    {
     "data": {
      "text/plain": [
       "24"
      ]
     },
     "execution_count": 17,
     "metadata": {},
     "output_type": "execute_result"
    }
   ],
   "source": [
    "import math\n",
    "a1=math.factorial(4)\n",
    "a1"
   ]
  },
  {
   "cell_type": "code",
   "execution_count": 18,
   "id": "5b1bd9f4",
   "metadata": {},
   "outputs": [
    {
     "data": {
      "text/plain": [
       "4.0"
      ]
     },
     "execution_count": 18,
     "metadata": {},
     "output_type": "execute_result"
    }
   ],
   "source": [
    "a2=math.pow(2,2) #Returns the value of x to the power of y\n",
    "a2"
   ]
  },
  {
   "cell_type": "code",
   "execution_count": 19,
   "id": "11b0641c",
   "metadata": {},
   "outputs": [
    {
     "data": {
      "text/plain": [
       "3.0"
      ]
     },
     "execution_count": 19,
     "metadata": {},
     "output_type": "execute_result"
    }
   ],
   "source": [
    "a3=math.sqrt(9) #Returns the square root of a number\n",
    "a3"
   ]
  },
  {
   "cell_type": "code",
   "execution_count": 20,
   "id": "1bd26d7c",
   "metadata": {},
   "outputs": [
    {
     "data": {
      "text/plain": [
       "3.141592653589793"
      ]
     },
     "execution_count": 20,
     "metadata": {},
     "output_type": "execute_result"
    }
   ],
   "source": [
    "#Math Constants\n",
    "pi=math.pi  #returns PI (3.1415...)\n",
    "pi"
   ]
  },
  {
   "cell_type": "code",
   "execution_count": 23,
   "id": "7885de98",
   "metadata": {},
   "outputs": [
    {
     "data": {
      "text/plain": [
       "(nan, float)"
      ]
     },
     "execution_count": 23,
     "metadata": {},
     "output_type": "execute_result"
    }
   ],
   "source": [
    "n1=math.nan #Returns a floating-point NaN (Not a Number) value\n",
    "n1, type(n1)"
   ]
  },
  {
   "cell_type": "code",
   "execution_count": null,
   "id": "2a5fa045",
   "metadata": {},
   "outputs": [],
   "source": [
    "#Build in function"
   ]
  },
  {
   "cell_type": "code",
   "execution_count": 24,
   "id": "e74394a9",
   "metadata": {},
   "outputs": [
    {
     "name": "stdout",
     "output_type": "stream",
     "text": [
      "18\n",
      "24\n",
      "32\n"
     ]
    }
   ],
   "source": [
    "#filter()\n",
    "#Filter the array, and return a new array with only the values equal to or above 18:\n",
    "ages = [5, 12, 17, 18, 24, 32]\n",
    "\n",
    "def myFunc(x):\n",
    "  if x < 18:\n",
    "    return False\n",
    "  else:\n",
    "    return True\n",
    "\n",
    "adults = filter(myFunc, ages)\n",
    "\n",
    "for x in adults:\n",
    "  print(x)\n"
   ]
  },
  {
   "cell_type": "code",
   "execution_count": 25,
   "id": "2dd0753e",
   "metadata": {},
   "outputs": [
    {
     "name": "stdout",
     "output_type": "stream",
     "text": [
      "<map object at 0x000001C422E67A90>\n",
      "[5, 6, 6]\n"
     ]
    }
   ],
   "source": [
    "#Returns the specified iterator with the specified function applied to each item\n",
    "def myfunc(a):\n",
    "  return len(a)\n",
    "\n",
    "x = map(myfunc, ('apple', 'banana', 'cherry'))\n",
    "\n",
    "print(x)\n",
    "\n",
    "#convert the map into a list, for readability:\n",
    "print(list(x))\n"
   ]
  },
  {
   "cell_type": "code",
   "execution_count": 29,
   "id": "d14e291b",
   "metadata": {},
   "outputs": [
    {
     "data": {
      "text/plain": [
       "False"
      ]
     },
     "execution_count": 29,
     "metadata": {},
     "output_type": "execute_result"
    }
   ],
   "source": [
    "text=\"compa;n\"\n",
    "text.isalnum()"
   ]
  },
  {
   "cell_type": "code",
   "execution_count": null,
   "id": "2ae6d006",
   "metadata": {},
   "outputs": [],
   "source": [
    " input = \"my string 58\" output = ['m','y','s','t','r','i','n','g','5'] "
   ]
  },
  {
   "cell_type": "code",
   "execution_count": 31,
   "id": "3de29be7",
   "metadata": {},
   "outputs": [
    {
     "ename": "IndentationError",
     "evalue": "expected an indented block (1119089259.py, line 3)",
     "output_type": "error",
     "traceback": [
      "\u001b[1;36m  Input \u001b[1;32mIn [31]\u001b[1;36m\u001b[0m\n\u001b[1;33m    print(list(x),end='')\u001b[0m\n\u001b[1;37m    ^\u001b[0m\n\u001b[1;31mIndentationError\u001b[0m\u001b[1;31m:\u001b[0m expected an indented block\n"
     ]
    }
   ],
   "source": [
    "string1 = \"my string 58\"\n",
    "for x in string1:\n",
    "print(list(x),end='')\n",
    "for y in x:\n",
    "if y.isdigit():\n",
    "print(int(y))"
   ]
  },
  {
   "cell_type": "code",
   "execution_count": null,
   "id": "6846fc3a",
   "metadata": {},
   "outputs": [],
   "source": [
    "def remove(string):\n",
    "return list(string.replace(' ',''))\n",
    "remove('my string8')"
   ]
  },
  {
   "cell_type": "code",
   "execution_count": 52,
   "id": "71719c84",
   "metadata": {},
   "outputs": [
    {
     "data": {
      "text/plain": [
       "['m', 'y', ' ', 's', 't', 'r', 'i', 'n', 'g', ' ', '5', '8']"
      ]
     },
     "execution_count": 52,
     "metadata": {},
     "output_type": "execute_result"
    }
   ],
   "source": [
    "string1 = \"my string 58\"\n",
    "\n",
    "string=list(string1)\n",
    "string\n"
   ]
  },
  {
   "cell_type": "code",
   "execution_count": 56,
   "id": "c832404a",
   "metadata": {},
   "outputs": [
    {
     "name": "stdout",
     "output_type": "stream",
     "text": [
      "my string 5\n",
      "['m', 'y', 's', 't', 'r', 'i', 'n', 'g', '5']\n"
     ]
    }
   ],
   "source": [
    "string1 = \"my string 58\"\n",
    "string=list(string1)\n",
    "for i in range(len(string)):\n",
    "    if string[i].isdigit():\n",
    "        if int(string[i]) >5:\n",
    "            string[i]=''\n",
    "    \n",
    "string=''.join(string)\n",
    "print(string) \n",
    "print(list(string.replace(' ','')))\n",
    "\n",
    "    \n",
    "    "
   ]
  },
  {
   "cell_type": "code",
   "execution_count": 57,
   "id": "9afdffdf",
   "metadata": {},
   "outputs": [
    {
     "data": {
      "text/plain": [
       "6"
      ]
     },
     "execution_count": 57,
     "metadata": {},
     "output_type": "execute_result"
    }
   ],
   "source": [
    "l=[1,2,4,6,3,6,9]\n",
    "l.index(max(l))"
   ]
  },
  {
   "cell_type": "code",
   "execution_count": 59,
   "id": "f1a4986e",
   "metadata": {},
   "outputs": [],
   "source": [
    "def test22(a) : # need to check\n",
    "    return a\n",
    "\n",
    "def test23(*d):\n",
    "    return d\n",
    "\n",
    "def test24(func):\n",
    "    return func(\"sudh\")"
   ]
  },
  {
   "cell_type": "code",
   "execution_count": 61,
   "id": "0e617ce5",
   "metadata": {},
   "outputs": [
    {
     "data": {
      "text/plain": [
       "'sudh'"
      ]
     },
     "execution_count": 61,
     "metadata": {},
     "output_type": "execute_result"
    }
   ],
   "source": [
    "test24(test22)"
   ]
  },
  {
   "cell_type": "code",
   "execution_count": 64,
   "id": "925eddba",
   "metadata": {},
   "outputs": [
    {
     "data": {
      "text/plain": [
       "3"
      ]
     },
     "execution_count": 64,
     "metadata": {},
     "output_type": "execute_result"
    }
   ],
   "source": [
    "def adder(*num):\n",
    "    sum = 0\n",
    "    \n",
    "    for n in num:\n",
    "        sum = sum + n\n",
    "\n",
    "    return(sum)\n",
    "    \n",
    "\n",
    "adder(3)\n"
   ]
  },
  {
   "cell_type": "code",
   "execution_count": 66,
   "id": "396e81f5",
   "metadata": {},
   "outputs": [
    {
     "name": "stdout",
     "output_type": "stream",
     "text": [
      "The average of 1 and 2 is 1.5\n"
     ]
    }
   ],
   "source": [
    "def mean(values):\n",
    "    p=(sum(values)/len(values))\n",
    "    return(p)\n",
    "\n",
    "\n",
    "def main():\n",
    "    print(\"The average of 1 and 2 is \" + str(mean([1,2])))\n",
    "\n",
    "if __name__ == \"__main__\":\n",
    "    main()\n"
   ]
  },
  {
   "cell_type": "code",
   "execution_count": null,
   "id": "4453fa5a",
   "metadata": {},
   "outputs": [],
   "source": []
  }
 ],
 "metadata": {
  "kernelspec": {
   "display_name": "Python 3 (ipykernel)",
   "language": "python",
   "name": "python3"
  },
  "language_info": {
   "codemirror_mode": {
    "name": "ipython",
    "version": 3
   },
   "file_extension": ".py",
   "mimetype": "text/x-python",
   "name": "python",
   "nbconvert_exporter": "python",
   "pygments_lexer": "ipython3",
   "version": "3.9.12"
  }
 },
 "nbformat": 4,
 "nbformat_minor": 5
}
